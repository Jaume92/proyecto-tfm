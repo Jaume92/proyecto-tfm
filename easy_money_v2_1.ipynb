{
  "cells": [
    {
      "cell_type": "markdown",
      "metadata": {
        "id": "jArw88fLNzCn"
      },
      "source": [
        "# 1.cargamos el dataset de ventas"
      ]
    },
    {
      "cell_type": "code",
      "execution_count": null,
      "metadata": {
        "colab": {
          "base_uri": "https://localhost:8080/"
        },
        "id": "MDt8LiREp3XT",
        "outputId": "a08b85a3-f03e-4135-aa67-2d94657539c1"
      },
      "outputs": [
        {
          "name": "stdout",
          "output_type": "stream",
          "text": [
            "Mounted at /content/drive\n"
          ]
        }
      ],
      "source": [
        "from google.colab import drive\n",
        "drive.mount('/content/drive')"
      ]
    },
    {
      "cell_type": "code",
      "execution_count": null,
      "metadata": {
        "id": "VC68pV3KqMDh"
      },
      "outputs": [],
      "source": [
        "import pandas as pd\n",
        "import numpy as np\n",
        "import matplotlib as plt\n",
        "import matplotlib.pyplot as plt\n",
        "import seaborn as sns\n",
        "from google.colab import files\n",
        "import pandas as pd\n",
        "from scipy import stats\n",
        "import re\n",
        "from datetime import datetime\n",
        "import sklearn\n",
        "from sklearn import set_config\n",
        "from sklearn import model_selection\n",
        "import xgboost as xgb\n",
        "from sklearn.ensemble import RandomForestRegressor\n",
        "from sklearn.pipeline import Pipeline\n",
        "from sklearn.impute import KNNImputer\n"
      ]
    },
    {
      "cell_type": "code",
      "execution_count": null,
      "metadata": {
        "id": "pQOAEP82p9jJ"
      },
      "outputs": [],
      "source": [
        "df3 = pd.read_csv(\"/content/drive/MyDrive/datasets_TFM + diccionario/df_ventas.csv\", index_col=0)#sergi dataset\n",
        "#df3 = pd.read_csv(\"/content/drive/MyDrive/MASTER DATA SCIENCE 2023/TFM MASTER/EASY MONEY/df_ventas.csv\", index_col=0)#jaume dataset"
      ]
    },
    {
      "cell_type": "code",
      "execution_count": null,
      "metadata": {
        "colab": {
          "base_uri": "https://localhost:8080/"
        },
        "id": "31XcKKCKXNjz",
        "outputId": "d0912a4e-00aa-4dd4-f1b9-cfbc983fc81e"
      },
      "outputs": [
        {
          "name": "stdout",
          "output_type": "stream",
          "text": [
            "<class 'pandas.core.frame.DataFrame'>\n",
            "Index: 1653628 entries, 0 to 5962923\n",
            "Columns: 33 entries, pk_cid to SalaryRange\n",
            "dtypes: bool(16), float64(4), int64(2), object(11)\n",
            "memory usage: 252.3+ MB\n"
          ]
        }
      ],
      "source": [
        "df3.info(verbose = False)\n",
        "# Este dataframe tiene 2419150  filas y 34 columnas\n",
        "# las columnas tienen datos de tipo float64(5) - int64(3) - object(11) - datatime(3)-bool(16)\n",
        "# no hay nulos"
      ]
    },
    {
      "cell_type": "code",
      "execution_count": null,
      "metadata": {
        "colab": {
          "base_uri": "https://localhost:8080/"
        },
        "id": "dJsxFRWE4py8",
        "outputId": "4f28bbf1-5eda-48dc-8e05-d16ffa87b3d6"
      },
      "outputs": [
        {
          "data": {
            "text/plain": [
              "pk_cid                0\n",
              "pk_partition          0\n",
              "short_term_deposit    0\n",
              "loans                 0\n",
              "mortgage              0\n",
              "funds                 0\n",
              "securities            0\n",
              "long_term_deposit     0\n",
              "credit_card           0\n",
              "payroll               0\n",
              "pension_plan          0\n",
              "payroll_account       0\n",
              "emc_account           0\n",
              "debit_card            0\n",
              "em_account_p          0\n",
              "em_acount             0\n",
              "entry_date            0\n",
              "entry_channel         0\n",
              "active_customer       0\n",
              "segment               0\n",
              "country_id            0\n",
              "region_code           0\n",
              "gender                0\n",
              "age                   0\n",
              "deceased              0\n",
              "pk_sale               0\n",
              "month_sale            0\n",
              "product_ID            0\n",
              "net_margin            0\n",
              "product_desc          0\n",
              "family_product        0\n",
              "Provincia             0\n",
              "SalaryRange           0\n",
              "dtype: int64"
            ]
          },
          "execution_count": 6,
          "metadata": {},
          "output_type": "execute_result"
        }
      ],
      "source": [
        "df3.isna().sum()"
      ]
    },
    {
      "cell_type": "code",
      "execution_count": null,
      "metadata": {
        "colab": {
          "base_uri": "https://localhost:8080/"
        },
        "id": "chFarH86IaEI",
        "outputId": "afbea836-c61e-4613-ed5c-832eb85a11ac"
      },
      "outputs": [
        {
          "name": "stdout",
          "output_type": "stream",
          "text": [
            "['pk_cid', 'pk_partition', 'short_term_deposit', 'loans', 'mortgage', 'funds', 'securities', 'long_term_deposit', 'credit_card', 'payroll', 'pension_plan', 'payroll_account', 'emc_account', 'debit_card', 'em_account_p', 'em_acount', 'entry_date', 'entry_channel', 'active_customer', 'segment', 'country_id', 'region_code', 'gender', 'age', 'deceased', 'pk_sale', 'month_sale', 'product_ID', 'net_margin', 'product_desc', 'family_product', 'Provincia', 'SalaryRange']\n"
          ]
        }
      ],
      "source": [
        "#Estas son las columnas que tenemos en nuestro dataset\n",
        "print(df3.columns.tolist())"
      ]
    },
    {
      "cell_type": "code",
      "execution_count": null,
      "metadata": {
        "colab": {
          "base_uri": "https://localhost:8080/",
          "height": 1000
        },
        "id": "BF10_XLBIgvx",
        "outputId": "288ee04c-019b-4a22-90f8-bead336c5435"
      },
      "outputs": [
        {
          "data": {
            "application/vnd.google.colaboratory.intrinsic+json": {
              "type": "dataframe",
              "variable_name": "df3"
            },
            "text/html": [
              "\n",
              "  <div id=\"df-c7953769-3f29-4178-8d3e-14b9c6498c8a\" class=\"colab-df-container\">\n",
              "    <div>\n",
              "<style scoped>\n",
              "    .dataframe tbody tr th:only-of-type {\n",
              "        vertical-align: middle;\n",
              "    }\n",
              "\n",
              "    .dataframe tbody tr th {\n",
              "        vertical-align: top;\n",
              "    }\n",
              "\n",
              "    .dataframe thead th {\n",
              "        text-align: right;\n",
              "    }\n",
              "</style>\n",
              "<table border=\"1\" class=\"dataframe\">\n",
              "  <thead>\n",
              "    <tr style=\"text-align: right;\">\n",
              "      <th></th>\n",
              "      <th>0</th>\n",
              "      <th>12</th>\n",
              "      <th>32</th>\n",
              "      <th>36</th>\n",
              "      <th>41</th>\n",
              "    </tr>\n",
              "  </thead>\n",
              "  <tbody>\n",
              "    <tr>\n",
              "      <th>pk_cid</th>\n",
              "      <td>1375586</td>\n",
              "      <td>1050623</td>\n",
              "      <td>1050602</td>\n",
              "      <td>1050580</td>\n",
              "      <td>1050676</td>\n",
              "    </tr>\n",
              "    <tr>\n",
              "      <th>pk_partition</th>\n",
              "      <td>2018-01-01</td>\n",
              "      <td>2018-01-01</td>\n",
              "      <td>2018-01-01</td>\n",
              "      <td>2018-01-01</td>\n",
              "      <td>2018-01-01</td>\n",
              "    </tr>\n",
              "    <tr>\n",
              "      <th>short_term_deposit</th>\n",
              "      <td>False</td>\n",
              "      <td>False</td>\n",
              "      <td>False</td>\n",
              "      <td>False</td>\n",
              "      <td>False</td>\n",
              "    </tr>\n",
              "    <tr>\n",
              "      <th>loans</th>\n",
              "      <td>False</td>\n",
              "      <td>False</td>\n",
              "      <td>False</td>\n",
              "      <td>False</td>\n",
              "      <td>False</td>\n",
              "    </tr>\n",
              "    <tr>\n",
              "      <th>mortgage</th>\n",
              "      <td>False</td>\n",
              "      <td>False</td>\n",
              "      <td>False</td>\n",
              "      <td>False</td>\n",
              "      <td>False</td>\n",
              "    </tr>\n",
              "    <tr>\n",
              "      <th>funds</th>\n",
              "      <td>False</td>\n",
              "      <td>False</td>\n",
              "      <td>False</td>\n",
              "      <td>False</td>\n",
              "      <td>False</td>\n",
              "    </tr>\n",
              "    <tr>\n",
              "      <th>securities</th>\n",
              "      <td>False</td>\n",
              "      <td>False</td>\n",
              "      <td>False</td>\n",
              "      <td>False</td>\n",
              "      <td>False</td>\n",
              "    </tr>\n",
              "    <tr>\n",
              "      <th>long_term_deposit</th>\n",
              "      <td>False</td>\n",
              "      <td>False</td>\n",
              "      <td>False</td>\n",
              "      <td>False</td>\n",
              "      <td>False</td>\n",
              "    </tr>\n",
              "    <tr>\n",
              "      <th>credit_card</th>\n",
              "      <td>False</td>\n",
              "      <td>False</td>\n",
              "      <td>False</td>\n",
              "      <td>False</td>\n",
              "      <td>False</td>\n",
              "    </tr>\n",
              "    <tr>\n",
              "      <th>payroll</th>\n",
              "      <td>False</td>\n",
              "      <td>False</td>\n",
              "      <td>False</td>\n",
              "      <td>False</td>\n",
              "      <td>False</td>\n",
              "    </tr>\n",
              "    <tr>\n",
              "      <th>pension_plan</th>\n",
              "      <td>False</td>\n",
              "      <td>False</td>\n",
              "      <td>False</td>\n",
              "      <td>False</td>\n",
              "      <td>False</td>\n",
              "    </tr>\n",
              "    <tr>\n",
              "      <th>payroll_account</th>\n",
              "      <td>False</td>\n",
              "      <td>False</td>\n",
              "      <td>False</td>\n",
              "      <td>False</td>\n",
              "      <td>False</td>\n",
              "    </tr>\n",
              "    <tr>\n",
              "      <th>emc_account</th>\n",
              "      <td>False</td>\n",
              "      <td>False</td>\n",
              "      <td>False</td>\n",
              "      <td>False</td>\n",
              "      <td>True</td>\n",
              "    </tr>\n",
              "    <tr>\n",
              "      <th>debit_card</th>\n",
              "      <td>False</td>\n",
              "      <td>False</td>\n",
              "      <td>False</td>\n",
              "      <td>False</td>\n",
              "      <td>False</td>\n",
              "    </tr>\n",
              "    <tr>\n",
              "      <th>em_account_p</th>\n",
              "      <td>False</td>\n",
              "      <td>False</td>\n",
              "      <td>False</td>\n",
              "      <td>False</td>\n",
              "      <td>False</td>\n",
              "    </tr>\n",
              "    <tr>\n",
              "      <th>em_acount</th>\n",
              "      <td>True</td>\n",
              "      <td>True</td>\n",
              "      <td>True</td>\n",
              "      <td>True</td>\n",
              "      <td>True</td>\n",
              "    </tr>\n",
              "    <tr>\n",
              "      <th>entry_date</th>\n",
              "      <td>2018-01-01</td>\n",
              "      <td>2015-08-01</td>\n",
              "      <td>2015-08-01</td>\n",
              "      <td>2015-08-01</td>\n",
              "      <td>2015-08-01</td>\n",
              "    </tr>\n",
              "    <tr>\n",
              "      <th>entry_channel</th>\n",
              "      <td>KHL</td>\n",
              "      <td>KHE</td>\n",
              "      <td>KHE</td>\n",
              "      <td>KHE</td>\n",
              "      <td>KFC</td>\n",
              "    </tr>\n",
              "    <tr>\n",
              "      <th>active_customer</th>\n",
              "      <td>True</td>\n",
              "      <td>True</td>\n",
              "      <td>True</td>\n",
              "      <td>True</td>\n",
              "      <td>False</td>\n",
              "    </tr>\n",
              "    <tr>\n",
              "      <th>segment</th>\n",
              "      <td>02 - PARTICULARES</td>\n",
              "      <td>03 - UNIVERSITARIO</td>\n",
              "      <td>03 - UNIVERSITARIO</td>\n",
              "      <td>03 - UNIVERSITARIO</td>\n",
              "      <td>02 - PARTICULARES</td>\n",
              "    </tr>\n",
              "    <tr>\n",
              "      <th>country_id</th>\n",
              "      <td>ES</td>\n",
              "      <td>ES</td>\n",
              "      <td>ES</td>\n",
              "      <td>ES</td>\n",
              "      <td>ES</td>\n",
              "    </tr>\n",
              "    <tr>\n",
              "      <th>region_code</th>\n",
              "      <td>29.0</td>\n",
              "      <td>49.0</td>\n",
              "      <td>37.0</td>\n",
              "      <td>27.0</td>\n",
              "      <td>45.0</td>\n",
              "    </tr>\n",
              "    <tr>\n",
              "      <th>gender</th>\n",
              "      <td>True</td>\n",
              "      <td>True</td>\n",
              "      <td>False</td>\n",
              "      <td>True</td>\n",
              "      <td>False</td>\n",
              "    </tr>\n",
              "    <tr>\n",
              "      <th>age</th>\n",
              "      <td>35</td>\n",
              "      <td>23</td>\n",
              "      <td>23</td>\n",
              "      <td>23</td>\n",
              "      <td>31</td>\n",
              "    </tr>\n",
              "    <tr>\n",
              "      <th>deceased</th>\n",
              "      <td>N</td>\n",
              "      <td>N</td>\n",
              "      <td>N</td>\n",
              "      <td>N</td>\n",
              "      <td>N</td>\n",
              "    </tr>\n",
              "    <tr>\n",
              "      <th>pk_sale</th>\n",
              "      <td>111967.0</td>\n",
              "      <td>93776.0</td>\n",
              "      <td>93775.0</td>\n",
              "      <td>93774.0</td>\n",
              "      <td>93778.0</td>\n",
              "    </tr>\n",
              "    <tr>\n",
              "      <th>month_sale</th>\n",
              "      <td>2018-05-01</td>\n",
              "      <td>2018-02-01</td>\n",
              "      <td>2019-04-01</td>\n",
              "      <td>2018-10-01</td>\n",
              "      <td>2019-02-01</td>\n",
              "    </tr>\n",
              "    <tr>\n",
              "      <th>product_ID</th>\n",
              "      <td>3819.0</td>\n",
              "      <td>3819.0</td>\n",
              "      <td>3819.0</td>\n",
              "      <td>3819.0</td>\n",
              "      <td>3819.0</td>\n",
              "    </tr>\n",
              "    <tr>\n",
              "      <th>net_margin</th>\n",
              "      <td>56.9</td>\n",
              "      <td>54.4</td>\n",
              "      <td>65.1</td>\n",
              "      <td>53.5</td>\n",
              "      <td>60.4</td>\n",
              "    </tr>\n",
              "    <tr>\n",
              "      <th>product_desc</th>\n",
              "      <td>debit_card</td>\n",
              "      <td>debit_card</td>\n",
              "      <td>debit_card</td>\n",
              "      <td>debit_card</td>\n",
              "      <td>debit_card</td>\n",
              "    </tr>\n",
              "    <tr>\n",
              "      <th>family_product</th>\n",
              "      <td>payment_card</td>\n",
              "      <td>payment_card</td>\n",
              "      <td>payment_card</td>\n",
              "      <td>payment_card</td>\n",
              "      <td>payment_card</td>\n",
              "    </tr>\n",
              "    <tr>\n",
              "      <th>Provincia</th>\n",
              "      <td>Malaga</td>\n",
              "      <td>Zamora</td>\n",
              "      <td>Salamanca</td>\n",
              "      <td>Lugo</td>\n",
              "      <td>Toledo</td>\n",
              "    </tr>\n",
              "    <tr>\n",
              "      <th>SalaryRange</th>\n",
              "      <td>2Range</td>\n",
              "      <td>3Range</td>\n",
              "      <td>3Range</td>\n",
              "      <td>2Range</td>\n",
              "      <td>3Range</td>\n",
              "    </tr>\n",
              "  </tbody>\n",
              "</table>\n",
              "</div>\n",
              "    <div class=\"colab-df-buttons\">\n",
              "\n",
              "  <div class=\"colab-df-container\">\n",
              "    <button class=\"colab-df-convert\" onclick=\"convertToInteractive('df-c7953769-3f29-4178-8d3e-14b9c6498c8a')\"\n",
              "            title=\"Convert this dataframe to an interactive table.\"\n",
              "            style=\"display:none;\">\n",
              "\n",
              "  <svg xmlns=\"http://www.w3.org/2000/svg\" height=\"24px\" viewBox=\"0 -960 960 960\">\n",
              "    <path d=\"M120-120v-720h720v720H120Zm60-500h600v-160H180v160Zm220 220h160v-160H400v160Zm0 220h160v-160H400v160ZM180-400h160v-160H180v160Zm440 0h160v-160H620v160ZM180-180h160v-160H180v160Zm440 0h160v-160H620v160Z\"/>\n",
              "  </svg>\n",
              "    </button>\n",
              "\n",
              "  <style>\n",
              "    .colab-df-container {\n",
              "      display:flex;\n",
              "      gap: 12px;\n",
              "    }\n",
              "\n",
              "    .colab-df-convert {\n",
              "      background-color: #E8F0FE;\n",
              "      border: none;\n",
              "      border-radius: 50%;\n",
              "      cursor: pointer;\n",
              "      display: none;\n",
              "      fill: #1967D2;\n",
              "      height: 32px;\n",
              "      padding: 0 0 0 0;\n",
              "      width: 32px;\n",
              "    }\n",
              "\n",
              "    .colab-df-convert:hover {\n",
              "      background-color: #E2EBFA;\n",
              "      box-shadow: 0px 1px 2px rgba(60, 64, 67, 0.3), 0px 1px 3px 1px rgba(60, 64, 67, 0.15);\n",
              "      fill: #174EA6;\n",
              "    }\n",
              "\n",
              "    .colab-df-buttons div {\n",
              "      margin-bottom: 4px;\n",
              "    }\n",
              "\n",
              "    [theme=dark] .colab-df-convert {\n",
              "      background-color: #3B4455;\n",
              "      fill: #D2E3FC;\n",
              "    }\n",
              "\n",
              "    [theme=dark] .colab-df-convert:hover {\n",
              "      background-color: #434B5C;\n",
              "      box-shadow: 0px 1px 3px 1px rgba(0, 0, 0, 0.15);\n",
              "      filter: drop-shadow(0px 1px 2px rgba(0, 0, 0, 0.3));\n",
              "      fill: #FFFFFF;\n",
              "    }\n",
              "  </style>\n",
              "\n",
              "    <script>\n",
              "      const buttonEl =\n",
              "        document.querySelector('#df-c7953769-3f29-4178-8d3e-14b9c6498c8a button.colab-df-convert');\n",
              "      buttonEl.style.display =\n",
              "        google.colab.kernel.accessAllowed ? 'block' : 'none';\n",
              "\n",
              "      async function convertToInteractive(key) {\n",
              "        const element = document.querySelector('#df-c7953769-3f29-4178-8d3e-14b9c6498c8a');\n",
              "        const dataTable =\n",
              "          await google.colab.kernel.invokeFunction('convertToInteractive',\n",
              "                                                    [key], {});\n",
              "        if (!dataTable) return;\n",
              "\n",
              "        const docLinkHtml = 'Like what you see? Visit the ' +\n",
              "          '<a target=\"_blank\" href=https://colab.research.google.com/notebooks/data_table.ipynb>data table notebook</a>'\n",
              "          + ' to learn more about interactive tables.';\n",
              "        element.innerHTML = '';\n",
              "        dataTable['output_type'] = 'display_data';\n",
              "        await google.colab.output.renderOutput(dataTable, element);\n",
              "        const docLink = document.createElement('div');\n",
              "        docLink.innerHTML = docLinkHtml;\n",
              "        element.appendChild(docLink);\n",
              "      }\n",
              "    </script>\n",
              "  </div>\n",
              "\n",
              "\n",
              "<div id=\"df-730b2938-c43d-4f57-9117-aae1dab98f77\">\n",
              "  <button class=\"colab-df-quickchart\" onclick=\"quickchart('df-730b2938-c43d-4f57-9117-aae1dab98f77')\"\n",
              "            title=\"Suggest charts\"\n",
              "            style=\"display:none;\">\n",
              "\n",
              "<svg xmlns=\"http://www.w3.org/2000/svg\" height=\"24px\"viewBox=\"0 0 24 24\"\n",
              "     width=\"24px\">\n",
              "    <g>\n",
              "        <path d=\"M19 3H5c-1.1 0-2 .9-2 2v14c0 1.1.9 2 2 2h14c1.1 0 2-.9 2-2V5c0-1.1-.9-2-2-2zM9 17H7v-7h2v7zm4 0h-2V7h2v10zm4 0h-2v-4h2v4z\"/>\n",
              "    </g>\n",
              "</svg>\n",
              "  </button>\n",
              "\n",
              "<style>\n",
              "  .colab-df-quickchart {\n",
              "      --bg-color: #E8F0FE;\n",
              "      --fill-color: #1967D2;\n",
              "      --hover-bg-color: #E2EBFA;\n",
              "      --hover-fill-color: #174EA6;\n",
              "      --disabled-fill-color: #AAA;\n",
              "      --disabled-bg-color: #DDD;\n",
              "  }\n",
              "\n",
              "  [theme=dark] .colab-df-quickchart {\n",
              "      --bg-color: #3B4455;\n",
              "      --fill-color: #D2E3FC;\n",
              "      --hover-bg-color: #434B5C;\n",
              "      --hover-fill-color: #FFFFFF;\n",
              "      --disabled-bg-color: #3B4455;\n",
              "      --disabled-fill-color: #666;\n",
              "  }\n",
              "\n",
              "  .colab-df-quickchart {\n",
              "    background-color: var(--bg-color);\n",
              "    border: none;\n",
              "    border-radius: 50%;\n",
              "    cursor: pointer;\n",
              "    display: none;\n",
              "    fill: var(--fill-color);\n",
              "    height: 32px;\n",
              "    padding: 0;\n",
              "    width: 32px;\n",
              "  }\n",
              "\n",
              "  .colab-df-quickchart:hover {\n",
              "    background-color: var(--hover-bg-color);\n",
              "    box-shadow: 0 1px 2px rgba(60, 64, 67, 0.3), 0 1px 3px 1px rgba(60, 64, 67, 0.15);\n",
              "    fill: var(--button-hover-fill-color);\n",
              "  }\n",
              "\n",
              "  .colab-df-quickchart-complete:disabled,\n",
              "  .colab-df-quickchart-complete:disabled:hover {\n",
              "    background-color: var(--disabled-bg-color);\n",
              "    fill: var(--disabled-fill-color);\n",
              "    box-shadow: none;\n",
              "  }\n",
              "\n",
              "  .colab-df-spinner {\n",
              "    border: 2px solid var(--fill-color);\n",
              "    border-color: transparent;\n",
              "    border-bottom-color: var(--fill-color);\n",
              "    animation:\n",
              "      spin 1s steps(1) infinite;\n",
              "  }\n",
              "\n",
              "  @keyframes spin {\n",
              "    0% {\n",
              "      border-color: transparent;\n",
              "      border-bottom-color: var(--fill-color);\n",
              "      border-left-color: var(--fill-color);\n",
              "    }\n",
              "    20% {\n",
              "      border-color: transparent;\n",
              "      border-left-color: var(--fill-color);\n",
              "      border-top-color: var(--fill-color);\n",
              "    }\n",
              "    30% {\n",
              "      border-color: transparent;\n",
              "      border-left-color: var(--fill-color);\n",
              "      border-top-color: var(--fill-color);\n",
              "      border-right-color: var(--fill-color);\n",
              "    }\n",
              "    40% {\n",
              "      border-color: transparent;\n",
              "      border-right-color: var(--fill-color);\n",
              "      border-top-color: var(--fill-color);\n",
              "    }\n",
              "    60% {\n",
              "      border-color: transparent;\n",
              "      border-right-color: var(--fill-color);\n",
              "    }\n",
              "    80% {\n",
              "      border-color: transparent;\n",
              "      border-right-color: var(--fill-color);\n",
              "      border-bottom-color: var(--fill-color);\n",
              "    }\n",
              "    90% {\n",
              "      border-color: transparent;\n",
              "      border-bottom-color: var(--fill-color);\n",
              "    }\n",
              "  }\n",
              "</style>\n",
              "\n",
              "  <script>\n",
              "    async function quickchart(key) {\n",
              "      const quickchartButtonEl =\n",
              "        document.querySelector('#' + key + ' button');\n",
              "      quickchartButtonEl.disabled = true;  // To prevent multiple clicks.\n",
              "      quickchartButtonEl.classList.add('colab-df-spinner');\n",
              "      try {\n",
              "        const charts = await google.colab.kernel.invokeFunction(\n",
              "            'suggestCharts', [key], {});\n",
              "      } catch (error) {\n",
              "        console.error('Error during call to suggestCharts:', error);\n",
              "      }\n",
              "      quickchartButtonEl.classList.remove('colab-df-spinner');\n",
              "      quickchartButtonEl.classList.add('colab-df-quickchart-complete');\n",
              "    }\n",
              "    (() => {\n",
              "      let quickchartButtonEl =\n",
              "        document.querySelector('#df-730b2938-c43d-4f57-9117-aae1dab98f77 button');\n",
              "      quickchartButtonEl.style.display =\n",
              "        google.colab.kernel.accessAllowed ? 'block' : 'none';\n",
              "    })();\n",
              "  </script>\n",
              "</div>\n",
              "    </div>\n",
              "  </div>\n"
            ],
            "text/plain": [
              "                                   0                   12                  32  \\\n",
              "pk_cid                        1375586             1050623             1050602   \n",
              "pk_partition               2018-01-01          2018-01-01          2018-01-01   \n",
              "short_term_deposit              False               False               False   \n",
              "loans                           False               False               False   \n",
              "mortgage                        False               False               False   \n",
              "funds                           False               False               False   \n",
              "securities                      False               False               False   \n",
              "long_term_deposit               False               False               False   \n",
              "credit_card                     False               False               False   \n",
              "payroll                         False               False               False   \n",
              "pension_plan                    False               False               False   \n",
              "payroll_account                 False               False               False   \n",
              "emc_account                     False               False               False   \n",
              "debit_card                      False               False               False   \n",
              "em_account_p                    False               False               False   \n",
              "em_acount                        True                True                True   \n",
              "entry_date                 2018-01-01          2015-08-01          2015-08-01   \n",
              "entry_channel                     KHL                 KHE                 KHE   \n",
              "active_customer                  True                True                True   \n",
              "segment             02 - PARTICULARES  03 - UNIVERSITARIO  03 - UNIVERSITARIO   \n",
              "country_id                         ES                  ES                  ES   \n",
              "region_code                      29.0                49.0                37.0   \n",
              "gender                           True                True               False   \n",
              "age                                35                  23                  23   \n",
              "deceased                            N                   N                   N   \n",
              "pk_sale                      111967.0             93776.0             93775.0   \n",
              "month_sale                 2018-05-01          2018-02-01          2019-04-01   \n",
              "product_ID                     3819.0              3819.0              3819.0   \n",
              "net_margin                       56.9                54.4                65.1   \n",
              "product_desc               debit_card          debit_card          debit_card   \n",
              "family_product           payment_card        payment_card        payment_card   \n",
              "Provincia                      Malaga              Zamora           Salamanca   \n",
              "SalaryRange                    2Range              3Range              3Range   \n",
              "\n",
              "                                    36                 41  \n",
              "pk_cid                         1050580            1050676  \n",
              "pk_partition                2018-01-01         2018-01-01  \n",
              "short_term_deposit               False              False  \n",
              "loans                            False              False  \n",
              "mortgage                         False              False  \n",
              "funds                            False              False  \n",
              "securities                       False              False  \n",
              "long_term_deposit                False              False  \n",
              "credit_card                      False              False  \n",
              "payroll                          False              False  \n",
              "pension_plan                     False              False  \n",
              "payroll_account                  False              False  \n",
              "emc_account                      False               True  \n",
              "debit_card                       False              False  \n",
              "em_account_p                     False              False  \n",
              "em_acount                         True               True  \n",
              "entry_date                  2015-08-01         2015-08-01  \n",
              "entry_channel                      KHE                KFC  \n",
              "active_customer                   True              False  \n",
              "segment             03 - UNIVERSITARIO  02 - PARTICULARES  \n",
              "country_id                          ES                 ES  \n",
              "region_code                       27.0               45.0  \n",
              "gender                            True              False  \n",
              "age                                 23                 31  \n",
              "deceased                             N                  N  \n",
              "pk_sale                        93774.0            93778.0  \n",
              "month_sale                  2018-10-01         2019-02-01  \n",
              "product_ID                      3819.0             3819.0  \n",
              "net_margin                        53.5               60.4  \n",
              "product_desc                debit_card         debit_card  \n",
              "family_product            payment_card       payment_card  \n",
              "Provincia                         Lugo             Toledo  \n",
              "SalaryRange                     2Range             3Range  "
            ]
          },
          "execution_count": 8,
          "metadata": {},
          "output_type": "execute_result"
        }
      ],
      "source": [
        "#visualizamos la tabla\n",
        "df3.head().T"
      ]
    },
    {
      "cell_type": "markdown",
      "metadata": {
        "id": "_aVB7oO1OSj_"
      },
      "source": [
        "#2.Definimos el TARGET"
      ]
    },
    {
      "cell_type": "code",
      "execution_count": null,
      "metadata": {
        "id": "rdbPcQwq02QO"
      },
      "outputs": [],
      "source": [
        "TARGET = 'product_desc'"
      ]
    },
    {
      "cell_type": "markdown",
      "metadata": {
        "id": "nOvQQRBkvULo"
      },
      "source": [
        "##3.funciones a utilizar"
      ]
    },
    {
      "cell_type": "code",
      "execution_count": null,
      "metadata": {
        "id": "V8sv2_TLvKw4"
      },
      "outputs": [],
      "source": [
        "import pandas as pd\n",
        "import matplotlib.pyplot as plt\n",
        "import seaborn as sns\n",
        "\n",
        "# Asumimos que TARGET está definida en alguna parte de tu código, por ejemplo:\n",
        "# TARGET = 'nombre_de_la_columna_objetivo'\n",
        "\n",
        "def analizar_columna(df, columna, valor_referencia=0.5):\n",
        "    global TARGET  # Utilizamos la variable TARGET definida globalmente\n",
        "    if columna not in df.columns or TARGET not in df.columns:\n",
        "        print(f\"Verifique que tanto '{columna}' como '{TARGET}' existen en el DataFrame.\")\n",
        "        return\n",
        "\n",
        "    # 1. Conteo de valores únicos\n",
        "    print(f\"\\nConteo de valores únicos en '{columna}':\\n{df[columna].value_counts()}\\n\")\n",
        "\n",
        "    # 2. Estadísticas descriptivas\n",
        "    print(f\"Estadísticas descriptivas de '{columna}':\\n{df[columna].describe()}\\n\")\n",
        "\n",
        "    # Verifica si la columna es de tipo numérico\n",
        "    if df[columna].dtype in ['int64', 'float64']:\n",
        "        # 3. Valor máximo y mínimo\n",
        "        max_value = df[columna].max()\n",
        "        min_value = df[columna].min()\n",
        "        print(f\"Valor máximo en '{columna}': {max_value}\")\n",
        "        print(f\"Valor mínimo en '{columna}': {min_value}\")\n",
        "\n",
        "    # 4. Histograma de la columna\n",
        "    plt.figure(figsize=(10, 6))\n",
        "    sns.histplot(df[columna], bins=25, kde=False, color='green')\n",
        "    plt.title(f\"Histograma de '{columna}'\")\n",
        "    plt.xlabel(columna)\n",
        "    plt.ylabel(\"Frecuencia\")\n",
        "    plt.xticks(rotation=45, ha='right')\n",
        "    plt.grid(False)\n",
        "    plt.show()\n",
        "\n",
        "    # Análisis de relación con la columna objetivo\n",
        "    if TARGET in df.columns:\n",
        "        relacion = df.groupby(columna)[TARGET].mean().sort_values()\n",
        "        print(f\"\\nMedia de '{TARGET}' por valor de '{columna}':\\n{relacion}\\n\")\n",
        "\n",
        "        # Identifica y muestra los valores cuya media se desvíe significativamente de un valor de referencia\n",
        "        desviacion_significativa = relacion[(relacion < valor_referencia * 0.8) | (relacion > valor_referencia * 1.2)]\n",
        "        print(f\"Valores en '{columna}' con una media de '{TARGET}' significativamente distinta de {valor_referencia}:\\n{desviacion_significativa}\\n\")\n"
      ]
    },
    {
      "cell_type": "markdown",
      "metadata": {
        "id": "-AuCzP3XvXb4"
      },
      "source": [
        "## 4.Analisis"
      ]
    },
    {
      "cell_type": "code",
      "execution_count": null,
      "metadata": {
        "id": "Wa3YRyRVwMyT"
      },
      "outputs": [],
      "source": [
        "list_data = [\"pk_partition\", \"entry_date\", \"month_sale\"]\n",
        "\n",
        "# Convertir las columnas especificadas a datetime\n",
        "for column in list_data:\n",
        "    df3[column] = pd.to_datetime(df3[column])"
      ]
    },
    {
      "cell_type": "code",
      "execution_count": null,
      "metadata": {
        "id": "H7DJ8SW4IGrV"
      },
      "outputs": [],
      "source": [
        "to_object = ['product_ID', 'region_code', 'pk_sale', 'product_ID']\n",
        "to_bool = ['active_customer']"
      ]
    },
    {
      "cell_type": "code",
      "execution_count": null,
      "metadata": {
        "id": "LB8g6G8qIGrW"
      },
      "outputs": [],
      "source": [
        "for i in to_object:\n",
        "  df3[i] = df3[i].astype(object)"
      ]
    },
    {
      "cell_type": "code",
      "execution_count": null,
      "metadata": {
        "id": "7Re2okyzIGrW"
      },
      "outputs": [],
      "source": [
        "df3[to_bool] = df3[to_bool].astype(bool)"
      ]
    },
    {
      "cell_type": "code",
      "execution_count": null,
      "metadata": {
        "colab": {
          "base_uri": "https://localhost:8080/"
        },
        "id": "iHbxyZqxIGrW",
        "outputId": "cb174ea5-5d94-471f-f86d-d65874e825d7"
      },
      "outputs": [
        {
          "name": "stdout",
          "output_type": "stream",
          "text": [
            "<class 'pandas.core.frame.DataFrame'>\n",
            "Index: 1653628 entries, 0 to 5962923\n",
            "Data columns (total 33 columns):\n",
            " #   Column              Non-Null Count    Dtype         \n",
            "---  ------              --------------    -----         \n",
            " 0   pk_cid              1653628 non-null  int64         \n",
            " 1   pk_partition        1653628 non-null  datetime64[ns]\n",
            " 2   short_term_deposit  1653628 non-null  bool          \n",
            " 3   loans               1653628 non-null  bool          \n",
            " 4   mortgage            1653628 non-null  bool          \n",
            " 5   funds               1653628 non-null  bool          \n",
            " 6   securities          1653628 non-null  bool          \n",
            " 7   long_term_deposit   1653628 non-null  bool          \n",
            " 8   credit_card         1653628 non-null  bool          \n",
            " 9   payroll             1653628 non-null  bool          \n",
            " 10  pension_plan        1653628 non-null  bool          \n",
            " 11  payroll_account     1653628 non-null  bool          \n",
            " 12  emc_account         1653628 non-null  bool          \n",
            " 13  debit_card          1653628 non-null  bool          \n",
            " 14  em_account_p        1653628 non-null  bool          \n",
            " 15  em_acount           1653628 non-null  bool          \n",
            " 16  entry_date          1653628 non-null  datetime64[ns]\n",
            " 17  entry_channel       1653628 non-null  object        \n",
            " 18  active_customer     1653628 non-null  bool          \n",
            " 19  segment             1653628 non-null  object        \n",
            " 20  country_id          1653628 non-null  object        \n",
            " 21  region_code         1653628 non-null  object        \n",
            " 22  gender              1653628 non-null  bool          \n",
            " 23  age                 1653628 non-null  int64         \n",
            " 24  deceased            1653628 non-null  object        \n",
            " 25  pk_sale             1653628 non-null  object        \n",
            " 26  month_sale          1653628 non-null  datetime64[ns]\n",
            " 27  product_ID          1653628 non-null  object        \n",
            " 28  net_margin          1653628 non-null  float64       \n",
            " 29  product_desc        1653628 non-null  object        \n",
            " 30  family_product      1653628 non-null  object        \n",
            " 31  Provincia           1653628 non-null  object        \n",
            " 32  SalaryRange         1653628 non-null  object        \n",
            "dtypes: bool(16), datetime64[ns](3), float64(1), int64(2), object(11)\n",
            "memory usage: 252.3+ MB\n"
          ]
        }
      ],
      "source": [
        "df3.info()"
      ]
    },
    {
      "cell_type": "markdown",
      "metadata": {
        "id": "ZTPkwshDPtQx"
      },
      "source": [
        "## 5.Calculamos varianza"
      ]
    },
    {
      "cell_type": "code",
      "execution_count": null,
      "metadata": {
        "colab": {
          "base_uri": "https://localhost:8080/"
        },
        "id": "qdA6QKaGPm9M",
        "outputId": "26d40d0f-e89c-46ce-b655-82043b8e011e"
      },
      "outputs": [
        {
          "name": "stdout",
          "output_type": "stream",
          "text": [
            "pk_cid                3.065781e+10\n",
            "short_term_deposit    8.832503e-03\n",
            "loans                 1.529736e-04\n",
            "mortgage              1.033984e-04\n",
            "funds                 7.782442e-03\n",
            "securities            7.774108e-03\n",
            "long_term_deposit     3.888871e-02\n",
            "credit_card           2.653526e-02\n",
            "payroll               8.195533e-02\n",
            "pension_plan          8.560813e-02\n",
            "payroll_account       1.279458e-01\n",
            "emc_account           9.035409e-02\n",
            "debit_card            1.631054e-01\n",
            "em_account_p          1.028033e-05\n",
            "em_acount             1.880037e-01\n",
            "active_customer       2.075749e-01\n",
            "gender                2.491131e-01\n",
            "age                   1.818881e+02\n",
            "net_margin            3.517777e+05\n",
            "dtype: float64\n"
          ]
        }
      ],
      "source": [
        "def calcular_varianza(df):\n",
        "    # Seleccionar solo las columnas numéricas, excluyendo datetime y object\n",
        "    columnas_numericas = df.select_dtypes(exclude=['object', 'datetime64[ns]'])\n",
        "\n",
        "    # Calcular la varianza para cada columna numérica\n",
        "    varianzas = columnas_numericas.var()\n",
        "    return varianzas\n",
        "\n",
        "# Usar la función con el DataFrame df3\n",
        "varianza_resultado = calcular_varianza(df3)\n",
        "\n",
        "# Imprimir las varianzas calculadas\n",
        "print(varianza_resultado)\n"
      ]
    },
    {
      "cell_type": "code",
      "execution_count": null,
      "metadata": {
        "colab": {
          "base_uri": "https://localhost:8080/"
        },
        "id": "bKfrHt1pIGrW",
        "outputId": "a2c3c28a-908f-4649-da0d-61f266f0a202"
      },
      "outputs": [
        {
          "data": {
            "text/plain": [
              "long_term_deposit\n",
              "False    1586604\n",
              "True       67024\n",
              "Name: count, dtype: int64"
            ]
          },
          "execution_count": 17,
          "metadata": {},
          "output_type": "execute_result"
        }
      ],
      "source": [
        "df3['long_term_deposit'].value_counts()"
      ]
    },
    {
      "cell_type": "code",
      "execution_count": null,
      "metadata": {
        "id": "xske1s5IIGrX"
      },
      "outputs": [],
      "source": [
        "def remove_low_variance_columns(df, threshold):\n",
        "    low_variance_cols = []\n",
        "    for col in df.columns:\n",
        "        if np.var(df[col]) < threshold:\n",
        "            low_variance_cols.append(col)\n",
        "    return df.drop(low_variance_cols, axis=1)"
      ]
    },
    {
      "cell_type": "code",
      "execution_count": null,
      "metadata": {
        "colab": {
          "base_uri": "https://localhost:8080/",
          "height": 103
        },
        "id": "GPYkYGSWIGrX",
        "outputId": "2532ccfa-5f01-4fef-f14e-873b15c5f864"
      },
      "outputs": [
        {
          "data": {
            "text/html": [
              "<div style=\"max-width:800px; border: 1px solid var(--colab-border-color);\"><style>\n",
              "      pre.function-repr-contents {\n",
              "        overflow-x: auto;\n",
              "        padding: 8px 12px;\n",
              "        max-height: 500px;\n",
              "      }\n",
              "\n",
              "      pre.function-repr-contents.function-repr-contents-collapsed {\n",
              "        cursor: pointer;\n",
              "        max-height: 100px;\n",
              "      }\n",
              "    </style>\n",
              "    <pre style=\"white-space: initial; background:\n",
              "         var(--colab-secondary-surface-color); padding: 8px 12px;\n",
              "         border-bottom: 1px solid var(--colab-border-color);\"><b>remove_low_variance_columns</b><br/>def remove_low_variance_columns(df, threshold)</pre><pre class=\"function-repr-contents function-repr-contents-collapsed\" style=\"\"><a class=\"filepath\" style=\"display:none\" href=\"#\">/content/&lt;ipython-input-18-253a8aab56bf&gt;</a>&lt;no docstring&gt;</pre></div>"
            ],
            "text/plain": [
              "<function __main__.remove_low_variance_columns(df, threshold)>"
            ]
          },
          "execution_count": 19,
          "metadata": {},
          "output_type": "execute_result"
        }
      ],
      "source": [
        "remove_low_variance_columns"
      ]
    },
    {
      "cell_type": "code",
      "execution_count": null,
      "metadata": {
        "id": "1NqVDnqjfSVK"
      },
      "outputs": [],
      "source": []
    },
    {
      "cell_type": "markdown",
      "metadata": {
        "id": "fMZLTol3YpXg"
      },
      "source": [
        "## 6.Procedemos a analizar las columnas y ver y corregir outliers"
      ]
    },
    {
      "cell_type": "code",
      "execution_count": null,
      "metadata": {
        "id": "bKtxKnSbvcUR"
      },
      "outputs": [],
      "source": [
        "analizar_columna(df3,\"pk_partition\")#Identificador de Partición. Mensualmente se ingesta en la tabla una partición con el estado de la base de clientes."
      ]
    },
    {
      "cell_type": "code",
      "execution_count": null,
      "metadata": {
        "id": "glJhMEaNw5OA"
      },
      "outputs": [],
      "source": [
        "analizar_columna(df3,\"short_term_deposit\")#Tenencia de Short-term deposits"
      ]
    },
    {
      "cell_type": "code",
      "execution_count": null,
      "metadata": {
        "id": "mmf9ZUbjxA-j"
      },
      "outputs": [],
      "source": [
        "analizar_columna(df3,\"loans\")#elinamos por poca relevancia"
      ]
    },
    {
      "cell_type": "code",
      "execution_count": null,
      "metadata": {
        "id": "osYK1--LxKS8"
      },
      "outputs": [],
      "source": [
        "analizar_columna(df3,\"mortgage\")#un tipo de hipoteca(valorar si borrar o no )"
      ]
    },
    {
      "cell_type": "code",
      "execution_count": null,
      "metadata": {
        "id": "-vPfsga3KMYa"
      },
      "outputs": [],
      "source": [
        "#df3.drop(columns=[\"mortgage\",\"loans\"], inplace=True)#aqui eliminamos las columnas por poca relevancia"
      ]
    },
    {
      "cell_type": "code",
      "execution_count": null,
      "metadata": {
        "id": "MtQIw8T25Iqi"
      },
      "outputs": [],
      "source": [
        "df3.isna().sum()"
      ]
    },
    {
      "cell_type": "code",
      "execution_count": null,
      "metadata": {
        "id": "DU6c98oE5WyP"
      },
      "outputs": [],
      "source": [
        "analizar_columna(df3,\"funds\")#fondos de inversion"
      ]
    },
    {
      "cell_type": "code",
      "execution_count": null,
      "metadata": {
        "id": "q9dWwMKq5dHg"
      },
      "outputs": [],
      "source": [
        "analizar_columna(df3,\"securities\")#tenencia de valores"
      ]
    },
    {
      "cell_type": "code",
      "execution_count": null,
      "metadata": {
        "id": "29Y9wNUE5oA0"
      },
      "outputs": [],
      "source": [
        "analizar_columna(df3,\"long_term_deposit\")#depositos a largo plazo"
      ]
    },
    {
      "cell_type": "code",
      "execution_count": null,
      "metadata": {
        "id": "E8Hwk6mR5xAe"
      },
      "outputs": [],
      "source": [
        "analizar_columna(df3,\"credit_card\")#tarjeta de credito"
      ]
    },
    {
      "cell_type": "code",
      "execution_count": null,
      "metadata": {
        "id": "jzkqECkG53cz"
      },
      "outputs": [],
      "source": [
        "analizar_columna(df3,\"payroll\")#tenencia de domiciliaciones"
      ]
    },
    {
      "cell_type": "code",
      "execution_count": null,
      "metadata": {
        "id": "vLWzn3g-5_BQ"
      },
      "outputs": [],
      "source": [
        "analizar_columna(df3,\"pension_plan\")#tenencia de plan de pensiones"
      ]
    },
    {
      "cell_type": "code",
      "execution_count": null,
      "metadata": {
        "id": "HlV-M9NT6E0u"
      },
      "outputs": [],
      "source": [
        "analizar_columna(df3,\"payroll_account\")#cuenta bonificada por domiciliaciones"
      ]
    },
    {
      "cell_type": "code",
      "execution_count": null,
      "metadata": {
        "id": "KGYZ8Z3Z6L96"
      },
      "outputs": [],
      "source": [
        "analizar_columna(df3,\"emc_account\")#cuentas de easy money crypto"
      ]
    },
    {
      "cell_type": "code",
      "execution_count": null,
      "metadata": {
        "id": "IfPB5G366Zvf"
      },
      "outputs": [],
      "source": [
        "analizar_columna(df3,\"debit_card\")#tarjeta de debito"
      ]
    },
    {
      "cell_type": "code",
      "execution_count": null,
      "metadata": {
        "id": "zocGDPFo640b"
      },
      "outputs": [],
      "source": [
        "analizar_columna(df3,\"em_account_p\")#para eliminar poca varianza"
      ]
    },
    {
      "cell_type": "code",
      "execution_count": null,
      "metadata": {
        "id": "HzpNPMebPx3J"
      },
      "outputs": [],
      "source": [
        "df3.drop(columns=[\"em_account_p\"], inplace=True)"
      ]
    },
    {
      "cell_type": "code",
      "execution_count": null,
      "metadata": {
        "id": "Md2RX8Hy7GtN"
      },
      "outputs": [],
      "source": [
        "analizar_columna(df3,\"em_acount\")#tenencia de cuenta de easymoney"
      ]
    },
    {
      "cell_type": "code",
      "execution_count": null,
      "metadata": {
        "id": "fwmp_SIM7V3H"
      },
      "outputs": [],
      "source": [
        "analizar_columna(df3,\"entry_date\")#fecha de entrada"
      ]
    },
    {
      "cell_type": "code",
      "execution_count": null,
      "metadata": {
        "id": "5Nt9t-hP83XV"
      },
      "outputs": [],
      "source": [
        "analizar_columna(df3,\"entry_channel\")#canal de entrada"
      ]
    },
    {
      "cell_type": "code",
      "execution_count": null,
      "metadata": {
        "id": "7rU2SB3gLDIv"
      },
      "outputs": [],
      "source": [
        "valores_a_mantener =  [\"KHQ\", \"KHE\", \"KFC\", \"KHK\", \"KHM\", \"KAT\", \"KHN\", \"RED\", \"KHL\", \"KFA\"]\n",
        "\n",
        "# Reemplaza todos los otros valores en 'entry_channel' con \"Others\"\n",
        "df3.loc[~df3['entry_channel'].isin(valores_a_mantener), 'entry_channel'] = 'Others'\n",
        "\n",
        "# Verifica los cambios\n",
        "print(df3['entry_channel'].value_counts())"
      ]
    },
    {
      "cell_type": "code",
      "execution_count": null,
      "metadata": {
        "id": "trP9aX_68-Fs"
      },
      "outputs": [],
      "source": [
        "analizar_columna(df3,\"active_customer\")#Indicador de actividad del cliente en la app EasyMoney"
      ]
    },
    {
      "cell_type": "code",
      "execution_count": null,
      "metadata": {
        "id": "lk9TTRpFiXhf"
      },
      "outputs": [],
      "source": [
        "df3[[ 'active_customer', 'month_sale']][\n",
        "    df3['active_customer'].notna() & df3['month_sale'].notna()]"
      ]
    },
    {
      "cell_type": "code",
      "execution_count": null,
      "metadata": {
        "id": "pJeLCVZz9EDu"
      },
      "outputs": [],
      "source": [
        "analizar_columna(df3,\"segment\")#segmento comercial del cliente"
      ]
    },
    {
      "cell_type": "code",
      "execution_count": null,
      "metadata": {
        "id": "hdd9nSf29Mz3"
      },
      "outputs": [],
      "source": [
        "analizar_columna(df3,\"country_id\")#pais de residencia del cliente"
      ]
    },
    {
      "cell_type": "code",
      "execution_count": null,
      "metadata": {
        "id": "fagbaASy9Y7D"
      },
      "outputs": [],
      "source": [
        "analizar_columna(df3,\"region_code\")#region del cliente (solo ESP)"
      ]
    },
    {
      "cell_type": "code",
      "execution_count": null,
      "metadata": {
        "id": "rSr9mzYUv4jP"
      },
      "outputs": [],
      "source": [
        "df3.isna().sum()"
      ]
    },
    {
      "cell_type": "code",
      "execution_count": null,
      "metadata": {
        "id": "llyIje7_v4hT"
      },
      "outputs": [],
      "source": [
        "plt.figure(figsize=(10,10))\n",
        "sns.scatterplot(x=\"SalaryRange\", y=\"Provincia\", data=df3)\n",
        "plt.title('Relación entre Salario y region')\n",
        "plt.show()"
      ]
    },
    {
      "cell_type": "code",
      "execution_count": null,
      "metadata": {
        "id": "v2SpXIsVcexu"
      },
      "outputs": [],
      "source": [
        "df3['gender'] = df3['gender'].replace({True: 'M', False: 'H'})"
      ]
    },
    {
      "cell_type": "code",
      "execution_count": null,
      "metadata": {
        "id": "SFuAtpv79wPb"
      },
      "outputs": [],
      "source": [
        "analizar_columna(df3,\"gender\")#pone H y V"
      ]
    },
    {
      "cell_type": "code",
      "execution_count": null,
      "metadata": {
        "id": "N8udDS73Givq"
      },
      "outputs": [],
      "source": [
        "analizar_columna(df3,\"age\")"
      ]
    },
    {
      "cell_type": "code",
      "execution_count": null,
      "metadata": {
        "id": "cdt76ZucGp2m"
      },
      "outputs": [],
      "source": [
        "analizar_columna(df3,\"deceased\")#si esta muerto o vivo"
      ]
    },
    {
      "cell_type": "code",
      "execution_count": null,
      "metadata": {
        "id": "Y5Qfd9-hJE-S"
      },
      "outputs": [],
      "source": [
        "df3.drop(columns=[\"deceased\"], inplace=True)"
      ]
    },
    {
      "cell_type": "code",
      "execution_count": null,
      "metadata": {
        "id": "3PJzyjwJIAbb"
      },
      "outputs": [],
      "source": [
        "analizar_columna(df3,\"SalaryRange\")#de la unidad familiar (padre madre )"
      ]
    },
    {
      "cell_type": "code",
      "execution_count": null,
      "metadata": {
        "id": "Ohmsj7u_ZqHZ"
      },
      "outputs": [],
      "source": [
        "plt.figure(figsize=(10, 6))\n",
        "sns.scatterplot(x=\"SalaryRange\", y=\"age\", data=df3)\n",
        "plt.title('Relación entre Salario y Edad')\n",
        "plt.show()"
      ]
    },
    {
      "cell_type": "code",
      "execution_count": null,
      "metadata": {
        "id": "XNkeU6Tkq_1K"
      },
      "outputs": [],
      "source": [
        "analizar_columna(df3,\"age\")#edad del cliente"
      ]
    },
    {
      "cell_type": "code",
      "execution_count": null,
      "metadata": {
        "id": "FAkohar6kVfR"
      },
      "outputs": [],
      "source": [
        "analizar_columna(df3,\"salary\")"
      ]
    },
    {
      "cell_type": "code",
      "execution_count": null,
      "metadata": {
        "id": "x6-Y2lx_I7XM"
      },
      "outputs": [],
      "source": [
        "analizar_columna(df3,\"pk_sale\")"
      ]
    },
    {
      "cell_type": "code",
      "execution_count": null,
      "metadata": {
        "id": "y4kv2LciK8Y4"
      },
      "outputs": [],
      "source": [
        "analizar_columna(df3,\"month_sale\")"
      ]
    },
    {
      "cell_type": "code",
      "execution_count": null,
      "metadata": {
        "id": "Cw1tFRpJLaEU"
      },
      "outputs": [],
      "source": [
        "analizar_columna(df3,\"product_ID\")"
      ]
    },
    {
      "cell_type": "code",
      "execution_count": null,
      "metadata": {
        "id": "Hj2HTpsBLp4m"
      },
      "outputs": [],
      "source": [
        "analizar_columna(df3,\"net_margin\")"
      ]
    },
    {
      "cell_type": "code",
      "execution_count": null,
      "metadata": {
        "id": "CUP2jXo4MmST"
      },
      "outputs": [],
      "source": [
        "analizar_columna(df3,\"product_desc\")"
      ]
    },
    {
      "cell_type": "code",
      "execution_count": null,
      "metadata": {
        "id": "xXUOg0ozMwAk"
      },
      "outputs": [],
      "source": [
        "analizar_columna(df3,\"family_product\")"
      ]
    },
    {
      "cell_type": "code",
      "execution_count": null,
      "metadata": {
        "id": "cPbq6aoyv_XP"
      },
      "outputs": [],
      "source": [
        "df3.info()"
      ]
    },
    {
      "cell_type": "code",
      "execution_count": null,
      "metadata": {
        "id": "HiHIGDl0-xPs"
      },
      "outputs": [],
      "source": [
        "df3['active_customer'].value_counts()"
      ]
    },
    {
      "cell_type": "code",
      "execution_count": null,
      "metadata": {
        "id": "ow0ao6Eq_TcX"
      },
      "outputs": [],
      "source": [
        "df3.select_dtypes(exclude=object).head()"
      ]
    },
    {
      "cell_type": "code",
      "execution_count": null,
      "metadata": {
        "id": "cfmSkK9u_jc_"
      },
      "outputs": [],
      "source": [
        "df3.select_dtypes(include=object).head()"
      ]
    },
    {
      "cell_type": "code",
      "execution_count": null,
      "metadata": {
        "id": "bPCbaT-4dyD8"
      },
      "outputs": [],
      "source": [
        "df3.info()"
      ]
    },
    {
      "cell_type": "code",
      "execution_count": null,
      "metadata": {
        "id": "gZxWvV5LQtA8"
      },
      "outputs": [],
      "source": [
        "# Convertir todas las columnas booleanas a enteros (1 y 0)\n",
        "df3 = df3.apply(lambda x: x.astype(int) if x.dtype == bool else x)\n",
        "\n",
        "print(df3)"
      ]
    },
    {
      "cell_type": "code",
      "execution_count": null,
      "metadata": {
        "id": "9Kk-xXwBU9UM"
      },
      "outputs": [],
      "source": [
        "historial_compras = df3.groupby(['pk_cid', 'product_ID']).size().reset_index(name='frecuencia_compra')\n",
        "# Fusionar la tabla de frecuencia de compras con el DataFrame original\n",
        "df3 = pd.merge(df3, historial_compras, on=['pk_cid','product_ID'], how='left')"
      ]
    },
    {
      "cell_type": "code",
      "execution_count": null,
      "metadata": {
        "id": "TCeaa6XPVYL6"
      },
      "outputs": [],
      "source": [
        "df3.head().T"
      ]
    },
    {
      "cell_type": "code",
      "execution_count": null,
      "metadata": {
        "id": "ar9BkTpO9VuV"
      },
      "outputs": [],
      "source": [
        "# Función para determinar el grupo de edad\n",
        "def age_group(age):\n",
        "    if age < 25:\n",
        "        return 'Joven'\n",
        "    elif age <= 45:\n",
        "        return 'Adulto'\n",
        "    else:\n",
        "        return 'Senior'\n",
        "\n",
        "# Función para determinar el grupo principal de productos\n",
        "def product_group(row):\n",
        "    if row['loans'] == 1 or row['mortgage'] == 1:\n",
        "        return 'Prestamos'\n",
        "    elif row['funds'] == 1 or row['securities'] == 1 or row['long_term_deposit'] == 1:\n",
        "        return 'Inversiones'\n",
        "    elif row['payroll_account'] == 1 or row['emc_account'] == 1 or row['em_acount'] == 1:\n",
        "        return 'Cuentas'\n",
        "    else:\n",
        "        return 'Otros'\n",
        "\n",
        "# Aplicar las funciones y crear la columna \"Product_Age\"\n",
        "df3['Age_Group'] = df3['age'].apply(age_group)\n",
        "df3['Product_Group'] = df3.apply(product_group, axis=1)\n",
        "df3['Product_Age'] = df3['Age_Group'] + \"_\" + df3['Product_Group']"
      ]
    },
    {
      "cell_type": "code",
      "execution_count": null,
      "metadata": {
        "id": "Uw485Rkr9dP4"
      },
      "outputs": [],
      "source": [
        "df3.head().T"
      ]
    },
    {
      "cell_type": "code",
      "execution_count": null,
      "metadata": {
        "id": "h8gP0JKZ9wyj"
      },
      "outputs": [],
      "source": [
        "df3[\"Age_Group\"].value_counts()"
      ]
    },
    {
      "cell_type": "code",
      "execution_count": null,
      "metadata": {
        "id": "uwdLh9TM-EPo"
      },
      "outputs": [],
      "source": [
        "df3[\"Product_Group\"].value_counts()"
      ]
    },
    {
      "cell_type": "code",
      "execution_count": null,
      "metadata": {
        "id": "m1MZTNIVPhyD"
      },
      "outputs": [],
      "source": [
        "file_path_csv_gzip = 'df3_powerbi_def.csv.gz'\n",
        "df3.to_csv(file_path_csv_gzip, index=True, sep=',', compression='gzip')"
      ]
    },
    {
      "cell_type": "markdown",
      "metadata": {
        "id": "Sl7iavtb4Feu"
      },
      "source": [
        "##Segmentación"
      ]
    },
    {
      "cell_type": "code",
      "execution_count": null,
      "metadata": {
        "id": "rrnwrNiDY19M"
      },
      "outputs": [],
      "source": [
        "# Realizamos la segmentación por tipo de producto\n",
        "segmentacion_por_producto = df3.groupby('product_desc').size()\n",
        "print(segmentacion_por_producto)"
      ]
    },
    {
      "cell_type": "code",
      "execution_count": null,
      "metadata": {
        "id": "D960XeliZ67Z"
      },
      "outputs": [],
      "source": [
        "#CONCLUSIONES:"
      ]
    },
    {
      "cell_type": "code",
      "execution_count": null,
      "metadata": {
        "id": "PzjiUTnQZbRa"
      },
      "outputs": [],
      "source": [
        "# Realizamos la segmentación por provincia\n",
        "segmentacion_por_provincia = df3.groupby('Provincia').size()\n",
        "segmentacion_ordenada = segmentacion_por_provincia.sort_values(ascending=False)\n",
        "print(segmentacion_ordenada)\n"
      ]
    },
    {
      "cell_type": "code",
      "execution_count": null,
      "metadata": {
        "id": "bW_s12RRZ_4-"
      },
      "outputs": [],
      "source": [
        "#CONCLUSIONES:"
      ]
    },
    {
      "cell_type": "code",
      "execution_count": null,
      "metadata": {
        "id": "2cWZcygRaDDF"
      },
      "outputs": [],
      "source": [
        "# Agrupamos por Provincia y product_desc, y contamos las ocurrencias\n",
        "productos_por_provincia = df3.groupby(['Provincia', 'product_desc']).size()\n",
        "# Convertimos el resultado en un DataFrame para mejor manejo\n",
        "productos_por_provincia_df = productos_por_provincia.reset_index(name='count')\n",
        "# Ordenamos dentro de cada provincia por count de manera descendente para ver los más populares al principio\n",
        "productos_por_provincia_df.sort_values(by=['Provincia', 'count'], ascending=[True, False], inplace=True)\n",
        "for provincia in productos_por_provincia_df['Provincia'].unique():\n",
        "    print(f\"Productos más populares en {provincia}:\")\n",
        "    print(productos_por_provincia_df[productos_por_provincia_df['Provincia'] == provincia].head())  # Mostrar los 5 productos más populares por provincia\n",
        "    print(\"\\n\")\n"
      ]
    },
    {
      "cell_type": "code",
      "execution_count": null,
      "metadata": {
        "id": "ch5Ye69OcL_S"
      },
      "outputs": [],
      "source": [
        "#CONCLUSIONES:"
      ]
    },
    {
      "cell_type": "code",
      "execution_count": null,
      "metadata": {
        "id": "9_9ElHDZcZFe"
      },
      "outputs": [],
      "source": [
        "# Agrupar por cliente y producto para ver la frecuencia de compra de cada producto\n",
        "historial_compras = df3.groupby(['pk_cid', 'product_ID']).size().reset_index(name='frecuencia_compra')\n",
        "\n",
        "# También podemos observar la distribución temporal de las compras por cliente\n",
        "compras_por_mes = df3.groupby(['pk_cid', 'month_sale']).size().reset_index(name='compras_mes')\n",
        "\n",
        "# Para visualizar mejor, se podría ordenar y limitar a los clientes con más compras o más lealtad a cierto producto\n",
        "historial_compras.sort_values(by='frecuencia_compra', ascending=False, inplace=True)\n",
        "compras_por_mes.sort_values(by='compras_mes', ascending=False, inplace=True)\n",
        "\n",
        "print(historial_compras.sample(30))  # Mostrar los clientes con mayor frecuencia de compra de un producto específico\n",
        "print(compras_por_mes.sample(30))    # Mostrar los clientes con más compras en un mes específico\n"
      ]
    },
    {
      "cell_type": "code",
      "execution_count": null,
      "metadata": {
        "id": "bh_93ZWpeIII"
      },
      "outputs": [],
      "source": [
        "#CONCLUSIONES:"
      ]
    },
    {
      "cell_type": "code",
      "execution_count": null,
      "metadata": {
        "id": "5GYX1UPqepCX"
      },
      "outputs": [],
      "source": [
        "# Clasificación de clientes por margen neto\n",
        "# Se podría definir un umbral para clasificar a los clientes en 'alto valor' y 'bajo valor' basado en el margen neto\n",
        "umbral_alto_valor = df3['net_margin'].quantile(0.70)  # por ejemplo, el percentil 75 como umbral de alto valor\n",
        "\n",
        "# Creamos una nueva columna para clasificar a los clientes\n",
        "df3['clasificacion_valor'] = df3['net_margin'].apply(lambda x: 'Alto Valor' if x >= umbral_alto_valor else 'Bajo Valor')\n",
        "\n",
        "# Contamos cuántos clientes hay en cada clasificación\n",
        "clasificacion_valor_counts = df3['clasificacion_valor'].value_counts()\n",
        "\n",
        "print(clasificacion_valor_counts)\n"
      ]
    },
    {
      "cell_type": "code",
      "execution_count": null,
      "metadata": {
        "id": "22hEzK_nMKLo"
      },
      "outputs": [],
      "source": [
        "df3.info()"
      ]
    },
    {
      "cell_type": "markdown",
      "metadata": {
        "id": "LSqFQb74GDkA"
      },
      "source": [
        "## 7.Clustering"
      ]
    },
    {
      "cell_type": "code",
      "execution_count": null,
      "metadata": {
        "id": "cHdIWia-glIM"
      },
      "outputs": [],
      "source": [
        "import pandas as pd\n",
        "from sklearn.cluster import KMeans\n",
        "from sklearn.preprocessing import StandardScaler\n",
        "\n",
        "# Lista de características usadas para el clustering\n",
        "features = ['age', 'net_margin', 'short_term_deposit', 'loans', 'mortgage', 'funds', 'securities', 'long_term_deposit', 'credit_card', 'payroll','salary']\n",
        "\n",
        "# Selecciona solo las columnas de características del DataFrame\n",
        "df_features = df3[features]\n",
        "\n",
        "# Escala las características para que tengan media=0 y desviación estándar=1\n",
        "scaler = StandardScaler()\n",
        "df_features_scaled = pd.DataFrame(scaler.fit_transform(df_features), columns=features)\n",
        "\n",
        "# Definir y ajustar el modelo K-Means\n",
        "# El número de clusters (n_clusters) puede ser elegido basado en tu conocimiento del dominio o técnicas como el método del codo\n",
        "kmeans = KMeans(n_clusters=5, random_state=42)\n",
        "kmeans.fit(df_features_scaled) # Fit the model on scaled data\n",
        "\n",
        "# Calcula el promedio general para las características escaladas\n",
        "general_means = df_features_scaled.mean()\n",
        "\n",
        "# Obtiene los centros de los clusters desde el modelo KMeans\n",
        "cluster_centers = kmeans.cluster_centers_\n",
        "\n",
        "# Convierte los centros de los clusters a un DataFrame para facilitar su manipulación\n",
        "df_cluster_centers = pd.DataFrame(cluster_centers, columns=features)\n",
        "\n",
        "# Compara los centros de los clusters con el promedio general\n",
        "for i, center in df_cluster_centers.iterrows():\n",
        "    print(f\"Cluster {i} deviations from general mean:\")\n",
        "    print(center - general_means)\n",
        "    print(\"\\n\")\n"
      ]
    },
    {
      "cell_type": "code",
      "execution_count": null,
      "metadata": {
        "id": "fIYA35pzgwsG"
      },
      "outputs": [],
      "source": [
        "\n",
        "df3['Cluster'] = kmeans.labels_\n",
        "\n",
        "# 2. Análisis Descriptivo por Cluster\n",
        "# Calcularemos estadísticas descriptivas para la columna de edad agrupadas por cluster\n",
        "age_descriptive_stats = df3.groupby('Cluster')['age'].describe()\n",
        "\n",
        "print(age_descriptive_stats)\n"
      ]
    },
    {
      "cell_type": "markdown",
      "metadata": {
        "id": "oHKdqnjHk01J"
      },
      "source": [
        "Cluster 0\n",
        "\n",
        "* Perfil: Ligeramente mayor edad que el promedio.\n",
        "* Finanzas: Bajo margen neto, menor uso de fondos y depósitos a largo plazo.\n",
        "* Productos Usados: Alta utilización de tarjetas de crédito y nómina, además de una notable inclinación hacia valores mobiliarios.\n",
        "\n",
        "Este cluster podría representar a individuos en etapas estables de sus vidas,\n",
        "activos en el uso de productos bancarios, con un enfoque en la inversión y el crédito."
      ]
    },
    {
      "cell_type": "markdown",
      "metadata": {
        "id": "josdWMYzl3ze"
      },
      "source": [
        "Cluster 1\n",
        "\n",
        "\n",
        "* Perfil: Edad ligeramente inferior al promedio.\n",
        "* Finanzas: Bajo margen neto, baja participación en todos los productos financieros.\n",
        "* Productos Usados: Menor uso de depósitos, fondos, tarjetas de crédito y productos de nómina.\n",
        "\n",
        "Este cluster incluye probablemente a clientes más jóvenes o con menos recursos, posiblemente menos activos en banca e inversión, quizás debido a una menor capacidad financiera."
      ]
    },
    {
      "cell_type": "markdown",
      "metadata": {
        "id": "Q0cu1Nk8oeUn"
      },
      "source": [
        "Cluster 2\n",
        "* Perfil: Mayor edad y margen neto significativamente alto.\n",
        "* Finanzas: Uso extremadamente alto de depósitos a corto plazo.\n",
        "* Productos Usados: Bajo uso de la mayoría de los otros productos financieros.\n",
        "\n",
        "parecen ser individuos maduros y financieramente seguros, enfocados en inversiones a corto plazo, posiblemente debido a una estrategia de gestión de riesgos o necesidades de liquidez inmediata."
      ]
    },
    {
      "cell_type": "markdown",
      "metadata": {
        "id": "kqAZErjNouIz"
      },
      "source": [
        "Cluster 3\n",
        "\n",
        "* Perfil: La mayor edad y margen neto entre todos los clusters.\n",
        "* Finanzas: Uso significativo de fondos y el mayor uso de depósitos a largo plazo.\n",
        "* Productos Usados: Alguno uso de crédito y valores mobiliarios.\n",
        "\n",
        " representa probablemente a individuos muy maduros y acaudalados, con un fuerte enfoque en la acumulación de riqueza y preparación para la jubilación, utilizando una amplia gama de productos de inversión."
      ]
    },
    {
      "cell_type": "markdown",
      "metadata": {
        "id": "2OCNbWwEo_ol"
      },
      "source": [
        "Cluster 4\n",
        "\n",
        "* Perfil: Ligeramente mayor edad que el promedio.\n",
        "* Finanzas: El mayor margen neto de todos los clusters.\n",
        "* Productos Usados: Uso excepcionalmente alto de préstamos, muy alto uso de tarjetas de crédito y una participación moderada en fondos.\n",
        "\n",
        "Clientes en este cluster son probablemente individuos con necesidades financieras sustanciales, activos en el uso de productos de crédito y préstamos, lo que puede reflejar una etapa de inversión significativa en negocios o propiedades personales."
      ]
    },
    {
      "cell_type": "code",
      "execution_count": null,
      "metadata": {
        "id": "9wrAmnIoqXjj"
      },
      "outputs": [],
      "source": [
        "ficha_df = df3"
      ]
    },
    {
      "cell_type": "code",
      "execution_count": null,
      "metadata": {
        "id": "3QHYxmrI2N4X"
      },
      "outputs": [],
      "source": [
        "(\n",
        "    df3\n",
        "    .groupby(\"Cluster\")\n",
        "    .describe()#mean\n",
        "    .T\n",
        "    .style.background_gradient(cmap = 'Blues', axis = 1)\n",
        ")"
      ]
    },
    {
      "cell_type": "markdown",
      "metadata": {
        "id": "Vg8QdFXJpuXs"
      },
      "source": [
        "##Modelo de classificacion"
      ]
    },
    {
      "cell_type": "code",
      "execution_count": null,
      "metadata": {
        "colab": {
          "base_uri": "https://localhost:8080/",
          "height": 1000
        },
        "id": "QBXs-LwJOjdv",
        "outputId": "daa75dc8-8585-4d6d-fb6d-55a890ef5076"
      },
      "outputs": [
        {
          "data": {
            "application/vnd.google.colaboratory.intrinsic+json": {
              "type": "dataframe",
              "variable_name": "df3"
            },
            "text/html": [
              "\n",
              "  <div id=\"df-b40fda27-10cd-4b69-9593-f451ec33a313\" class=\"colab-df-container\">\n",
              "    <div>\n",
              "<style scoped>\n",
              "    .dataframe tbody tr th:only-of-type {\n",
              "        vertical-align: middle;\n",
              "    }\n",
              "\n",
              "    .dataframe tbody tr th {\n",
              "        vertical-align: top;\n",
              "    }\n",
              "\n",
              "    .dataframe thead th {\n",
              "        text-align: right;\n",
              "    }\n",
              "</style>\n",
              "<table border=\"1\" class=\"dataframe\">\n",
              "  <thead>\n",
              "    <tr style=\"text-align: right;\">\n",
              "      <th></th>\n",
              "      <th>0</th>\n",
              "      <th>12</th>\n",
              "      <th>32</th>\n",
              "      <th>36</th>\n",
              "      <th>41</th>\n",
              "    </tr>\n",
              "  </thead>\n",
              "  <tbody>\n",
              "    <tr>\n",
              "      <th>pk_cid</th>\n",
              "      <td>1375586</td>\n",
              "      <td>1050623</td>\n",
              "      <td>1050602</td>\n",
              "      <td>1050580</td>\n",
              "      <td>1050676</td>\n",
              "    </tr>\n",
              "    <tr>\n",
              "      <th>pk_partition</th>\n",
              "      <td>2018-01-01 00:00:00</td>\n",
              "      <td>2018-01-01 00:00:00</td>\n",
              "      <td>2018-01-01 00:00:00</td>\n",
              "      <td>2018-01-01 00:00:00</td>\n",
              "      <td>2018-01-01 00:00:00</td>\n",
              "    </tr>\n",
              "    <tr>\n",
              "      <th>short_term_deposit</th>\n",
              "      <td>False</td>\n",
              "      <td>False</td>\n",
              "      <td>False</td>\n",
              "      <td>False</td>\n",
              "      <td>False</td>\n",
              "    </tr>\n",
              "    <tr>\n",
              "      <th>loans</th>\n",
              "      <td>False</td>\n",
              "      <td>False</td>\n",
              "      <td>False</td>\n",
              "      <td>False</td>\n",
              "      <td>False</td>\n",
              "    </tr>\n",
              "    <tr>\n",
              "      <th>mortgage</th>\n",
              "      <td>False</td>\n",
              "      <td>False</td>\n",
              "      <td>False</td>\n",
              "      <td>False</td>\n",
              "      <td>False</td>\n",
              "    </tr>\n",
              "    <tr>\n",
              "      <th>funds</th>\n",
              "      <td>False</td>\n",
              "      <td>False</td>\n",
              "      <td>False</td>\n",
              "      <td>False</td>\n",
              "      <td>False</td>\n",
              "    </tr>\n",
              "    <tr>\n",
              "      <th>securities</th>\n",
              "      <td>False</td>\n",
              "      <td>False</td>\n",
              "      <td>False</td>\n",
              "      <td>False</td>\n",
              "      <td>False</td>\n",
              "    </tr>\n",
              "    <tr>\n",
              "      <th>long_term_deposit</th>\n",
              "      <td>False</td>\n",
              "      <td>False</td>\n",
              "      <td>False</td>\n",
              "      <td>False</td>\n",
              "      <td>False</td>\n",
              "    </tr>\n",
              "    <tr>\n",
              "      <th>credit_card</th>\n",
              "      <td>False</td>\n",
              "      <td>False</td>\n",
              "      <td>False</td>\n",
              "      <td>False</td>\n",
              "      <td>False</td>\n",
              "    </tr>\n",
              "    <tr>\n",
              "      <th>payroll</th>\n",
              "      <td>False</td>\n",
              "      <td>False</td>\n",
              "      <td>False</td>\n",
              "      <td>False</td>\n",
              "      <td>False</td>\n",
              "    </tr>\n",
              "    <tr>\n",
              "      <th>pension_plan</th>\n",
              "      <td>False</td>\n",
              "      <td>False</td>\n",
              "      <td>False</td>\n",
              "      <td>False</td>\n",
              "      <td>False</td>\n",
              "    </tr>\n",
              "    <tr>\n",
              "      <th>payroll_account</th>\n",
              "      <td>False</td>\n",
              "      <td>False</td>\n",
              "      <td>False</td>\n",
              "      <td>False</td>\n",
              "      <td>False</td>\n",
              "    </tr>\n",
              "    <tr>\n",
              "      <th>emc_account</th>\n",
              "      <td>False</td>\n",
              "      <td>False</td>\n",
              "      <td>False</td>\n",
              "      <td>False</td>\n",
              "      <td>True</td>\n",
              "    </tr>\n",
              "    <tr>\n",
              "      <th>debit_card</th>\n",
              "      <td>False</td>\n",
              "      <td>False</td>\n",
              "      <td>False</td>\n",
              "      <td>False</td>\n",
              "      <td>False</td>\n",
              "    </tr>\n",
              "    <tr>\n",
              "      <th>em_account_p</th>\n",
              "      <td>False</td>\n",
              "      <td>False</td>\n",
              "      <td>False</td>\n",
              "      <td>False</td>\n",
              "      <td>False</td>\n",
              "    </tr>\n",
              "    <tr>\n",
              "      <th>em_acount</th>\n",
              "      <td>True</td>\n",
              "      <td>True</td>\n",
              "      <td>True</td>\n",
              "      <td>True</td>\n",
              "      <td>True</td>\n",
              "    </tr>\n",
              "    <tr>\n",
              "      <th>entry_date</th>\n",
              "      <td>2018-01-01 00:00:00</td>\n",
              "      <td>2015-08-01 00:00:00</td>\n",
              "      <td>2015-08-01 00:00:00</td>\n",
              "      <td>2015-08-01 00:00:00</td>\n",
              "      <td>2015-08-01 00:00:00</td>\n",
              "    </tr>\n",
              "    <tr>\n",
              "      <th>entry_channel</th>\n",
              "      <td>KHL</td>\n",
              "      <td>KHE</td>\n",
              "      <td>KHE</td>\n",
              "      <td>KHE</td>\n",
              "      <td>KFC</td>\n",
              "    </tr>\n",
              "    <tr>\n",
              "      <th>active_customer</th>\n",
              "      <td>True</td>\n",
              "      <td>True</td>\n",
              "      <td>True</td>\n",
              "      <td>True</td>\n",
              "      <td>False</td>\n",
              "    </tr>\n",
              "    <tr>\n",
              "      <th>segment</th>\n",
              "      <td>02 - PARTICULARES</td>\n",
              "      <td>03 - UNIVERSITARIO</td>\n",
              "      <td>03 - UNIVERSITARIO</td>\n",
              "      <td>03 - UNIVERSITARIO</td>\n",
              "      <td>02 - PARTICULARES</td>\n",
              "    </tr>\n",
              "    <tr>\n",
              "      <th>country_id</th>\n",
              "      <td>ES</td>\n",
              "      <td>ES</td>\n",
              "      <td>ES</td>\n",
              "      <td>ES</td>\n",
              "      <td>ES</td>\n",
              "    </tr>\n",
              "    <tr>\n",
              "      <th>region_code</th>\n",
              "      <td>29.0</td>\n",
              "      <td>49.0</td>\n",
              "      <td>37.0</td>\n",
              "      <td>27.0</td>\n",
              "      <td>45.0</td>\n",
              "    </tr>\n",
              "    <tr>\n",
              "      <th>gender</th>\n",
              "      <td>True</td>\n",
              "      <td>True</td>\n",
              "      <td>False</td>\n",
              "      <td>True</td>\n",
              "      <td>False</td>\n",
              "    </tr>\n",
              "    <tr>\n",
              "      <th>age</th>\n",
              "      <td>35</td>\n",
              "      <td>23</td>\n",
              "      <td>23</td>\n",
              "      <td>23</td>\n",
              "      <td>31</td>\n",
              "    </tr>\n",
              "    <tr>\n",
              "      <th>deceased</th>\n",
              "      <td>N</td>\n",
              "      <td>N</td>\n",
              "      <td>N</td>\n",
              "      <td>N</td>\n",
              "      <td>N</td>\n",
              "    </tr>\n",
              "    <tr>\n",
              "      <th>pk_sale</th>\n",
              "      <td>111967.0</td>\n",
              "      <td>93776.0</td>\n",
              "      <td>93775.0</td>\n",
              "      <td>93774.0</td>\n",
              "      <td>93778.0</td>\n",
              "    </tr>\n",
              "    <tr>\n",
              "      <th>month_sale</th>\n",
              "      <td>2018-05-01 00:00:00</td>\n",
              "      <td>2018-02-01 00:00:00</td>\n",
              "      <td>2019-04-01 00:00:00</td>\n",
              "      <td>2018-10-01 00:00:00</td>\n",
              "      <td>2019-02-01 00:00:00</td>\n",
              "    </tr>\n",
              "    <tr>\n",
              "      <th>product_ID</th>\n",
              "      <td>3819.0</td>\n",
              "      <td>3819.0</td>\n",
              "      <td>3819.0</td>\n",
              "      <td>3819.0</td>\n",
              "      <td>3819.0</td>\n",
              "    </tr>\n",
              "    <tr>\n",
              "      <th>net_margin</th>\n",
              "      <td>56.9</td>\n",
              "      <td>54.4</td>\n",
              "      <td>65.1</td>\n",
              "      <td>53.5</td>\n",
              "      <td>60.4</td>\n",
              "    </tr>\n",
              "    <tr>\n",
              "      <th>product_desc</th>\n",
              "      <td>debit_card</td>\n",
              "      <td>debit_card</td>\n",
              "      <td>debit_card</td>\n",
              "      <td>debit_card</td>\n",
              "      <td>debit_card</td>\n",
              "    </tr>\n",
              "    <tr>\n",
              "      <th>family_product</th>\n",
              "      <td>payment_card</td>\n",
              "      <td>payment_card</td>\n",
              "      <td>payment_card</td>\n",
              "      <td>payment_card</td>\n",
              "      <td>payment_card</td>\n",
              "    </tr>\n",
              "    <tr>\n",
              "      <th>Provincia</th>\n",
              "      <td>Malaga</td>\n",
              "      <td>Zamora</td>\n",
              "      <td>Salamanca</td>\n",
              "      <td>Lugo</td>\n",
              "      <td>Toledo</td>\n",
              "    </tr>\n",
              "    <tr>\n",
              "      <th>SalaryRange</th>\n",
              "      <td>2Range</td>\n",
              "      <td>3Range</td>\n",
              "      <td>3Range</td>\n",
              "      <td>2Range</td>\n",
              "      <td>3Range</td>\n",
              "    </tr>\n",
              "  </tbody>\n",
              "</table>\n",
              "</div>\n",
              "    <div class=\"colab-df-buttons\">\n",
              "\n",
              "  <div class=\"colab-df-container\">\n",
              "    <button class=\"colab-df-convert\" onclick=\"convertToInteractive('df-b40fda27-10cd-4b69-9593-f451ec33a313')\"\n",
              "            title=\"Convert this dataframe to an interactive table.\"\n",
              "            style=\"display:none;\">\n",
              "\n",
              "  <svg xmlns=\"http://www.w3.org/2000/svg\" height=\"24px\" viewBox=\"0 -960 960 960\">\n",
              "    <path d=\"M120-120v-720h720v720H120Zm60-500h600v-160H180v160Zm220 220h160v-160H400v160Zm0 220h160v-160H400v160ZM180-400h160v-160H180v160Zm440 0h160v-160H620v160ZM180-180h160v-160H180v160Zm440 0h160v-160H620v160Z\"/>\n",
              "  </svg>\n",
              "    </button>\n",
              "\n",
              "  <style>\n",
              "    .colab-df-container {\n",
              "      display:flex;\n",
              "      gap: 12px;\n",
              "    }\n",
              "\n",
              "    .colab-df-convert {\n",
              "      background-color: #E8F0FE;\n",
              "      border: none;\n",
              "      border-radius: 50%;\n",
              "      cursor: pointer;\n",
              "      display: none;\n",
              "      fill: #1967D2;\n",
              "      height: 32px;\n",
              "      padding: 0 0 0 0;\n",
              "      width: 32px;\n",
              "    }\n",
              "\n",
              "    .colab-df-convert:hover {\n",
              "      background-color: #E2EBFA;\n",
              "      box-shadow: 0px 1px 2px rgba(60, 64, 67, 0.3), 0px 1px 3px 1px rgba(60, 64, 67, 0.15);\n",
              "      fill: #174EA6;\n",
              "    }\n",
              "\n",
              "    .colab-df-buttons div {\n",
              "      margin-bottom: 4px;\n",
              "    }\n",
              "\n",
              "    [theme=dark] .colab-df-convert {\n",
              "      background-color: #3B4455;\n",
              "      fill: #D2E3FC;\n",
              "    }\n",
              "\n",
              "    [theme=dark] .colab-df-convert:hover {\n",
              "      background-color: #434B5C;\n",
              "      box-shadow: 0px 1px 3px 1px rgba(0, 0, 0, 0.15);\n",
              "      filter: drop-shadow(0px 1px 2px rgba(0, 0, 0, 0.3));\n",
              "      fill: #FFFFFF;\n",
              "    }\n",
              "  </style>\n",
              "\n",
              "    <script>\n",
              "      const buttonEl =\n",
              "        document.querySelector('#df-b40fda27-10cd-4b69-9593-f451ec33a313 button.colab-df-convert');\n",
              "      buttonEl.style.display =\n",
              "        google.colab.kernel.accessAllowed ? 'block' : 'none';\n",
              "\n",
              "      async function convertToInteractive(key) {\n",
              "        const element = document.querySelector('#df-b40fda27-10cd-4b69-9593-f451ec33a313');\n",
              "        const dataTable =\n",
              "          await google.colab.kernel.invokeFunction('convertToInteractive',\n",
              "                                                    [key], {});\n",
              "        if (!dataTable) return;\n",
              "\n",
              "        const docLinkHtml = 'Like what you see? Visit the ' +\n",
              "          '<a target=\"_blank\" href=https://colab.research.google.com/notebooks/data_table.ipynb>data table notebook</a>'\n",
              "          + ' to learn more about interactive tables.';\n",
              "        element.innerHTML = '';\n",
              "        dataTable['output_type'] = 'display_data';\n",
              "        await google.colab.output.renderOutput(dataTable, element);\n",
              "        const docLink = document.createElement('div');\n",
              "        docLink.innerHTML = docLinkHtml;\n",
              "        element.appendChild(docLink);\n",
              "      }\n",
              "    </script>\n",
              "  </div>\n",
              "\n",
              "\n",
              "<div id=\"df-0026b426-c87a-4ee3-9110-bda1a0c9d7d9\">\n",
              "  <button class=\"colab-df-quickchart\" onclick=\"quickchart('df-0026b426-c87a-4ee3-9110-bda1a0c9d7d9')\"\n",
              "            title=\"Suggest charts\"\n",
              "            style=\"display:none;\">\n",
              "\n",
              "<svg xmlns=\"http://www.w3.org/2000/svg\" height=\"24px\"viewBox=\"0 0 24 24\"\n",
              "     width=\"24px\">\n",
              "    <g>\n",
              "        <path d=\"M19 3H5c-1.1 0-2 .9-2 2v14c0 1.1.9 2 2 2h14c1.1 0 2-.9 2-2V5c0-1.1-.9-2-2-2zM9 17H7v-7h2v7zm4 0h-2V7h2v10zm4 0h-2v-4h2v4z\"/>\n",
              "    </g>\n",
              "</svg>\n",
              "  </button>\n",
              "\n",
              "<style>\n",
              "  .colab-df-quickchart {\n",
              "      --bg-color: #E8F0FE;\n",
              "      --fill-color: #1967D2;\n",
              "      --hover-bg-color: #E2EBFA;\n",
              "      --hover-fill-color: #174EA6;\n",
              "      --disabled-fill-color: #AAA;\n",
              "      --disabled-bg-color: #DDD;\n",
              "  }\n",
              "\n",
              "  [theme=dark] .colab-df-quickchart {\n",
              "      --bg-color: #3B4455;\n",
              "      --fill-color: #D2E3FC;\n",
              "      --hover-bg-color: #434B5C;\n",
              "      --hover-fill-color: #FFFFFF;\n",
              "      --disabled-bg-color: #3B4455;\n",
              "      --disabled-fill-color: #666;\n",
              "  }\n",
              "\n",
              "  .colab-df-quickchart {\n",
              "    background-color: var(--bg-color);\n",
              "    border: none;\n",
              "    border-radius: 50%;\n",
              "    cursor: pointer;\n",
              "    display: none;\n",
              "    fill: var(--fill-color);\n",
              "    height: 32px;\n",
              "    padding: 0;\n",
              "    width: 32px;\n",
              "  }\n",
              "\n",
              "  .colab-df-quickchart:hover {\n",
              "    background-color: var(--hover-bg-color);\n",
              "    box-shadow: 0 1px 2px rgba(60, 64, 67, 0.3), 0 1px 3px 1px rgba(60, 64, 67, 0.15);\n",
              "    fill: var(--button-hover-fill-color);\n",
              "  }\n",
              "\n",
              "  .colab-df-quickchart-complete:disabled,\n",
              "  .colab-df-quickchart-complete:disabled:hover {\n",
              "    background-color: var(--disabled-bg-color);\n",
              "    fill: var(--disabled-fill-color);\n",
              "    box-shadow: none;\n",
              "  }\n",
              "\n",
              "  .colab-df-spinner {\n",
              "    border: 2px solid var(--fill-color);\n",
              "    border-color: transparent;\n",
              "    border-bottom-color: var(--fill-color);\n",
              "    animation:\n",
              "      spin 1s steps(1) infinite;\n",
              "  }\n",
              "\n",
              "  @keyframes spin {\n",
              "    0% {\n",
              "      border-color: transparent;\n",
              "      border-bottom-color: var(--fill-color);\n",
              "      border-left-color: var(--fill-color);\n",
              "    }\n",
              "    20% {\n",
              "      border-color: transparent;\n",
              "      border-left-color: var(--fill-color);\n",
              "      border-top-color: var(--fill-color);\n",
              "    }\n",
              "    30% {\n",
              "      border-color: transparent;\n",
              "      border-left-color: var(--fill-color);\n",
              "      border-top-color: var(--fill-color);\n",
              "      border-right-color: var(--fill-color);\n",
              "    }\n",
              "    40% {\n",
              "      border-color: transparent;\n",
              "      border-right-color: var(--fill-color);\n",
              "      border-top-color: var(--fill-color);\n",
              "    }\n",
              "    60% {\n",
              "      border-color: transparent;\n",
              "      border-right-color: var(--fill-color);\n",
              "    }\n",
              "    80% {\n",
              "      border-color: transparent;\n",
              "      border-right-color: var(--fill-color);\n",
              "      border-bottom-color: var(--fill-color);\n",
              "    }\n",
              "    90% {\n",
              "      border-color: transparent;\n",
              "      border-bottom-color: var(--fill-color);\n",
              "    }\n",
              "  }\n",
              "</style>\n",
              "\n",
              "  <script>\n",
              "    async function quickchart(key) {\n",
              "      const quickchartButtonEl =\n",
              "        document.querySelector('#' + key + ' button');\n",
              "      quickchartButtonEl.disabled = true;  // To prevent multiple clicks.\n",
              "      quickchartButtonEl.classList.add('colab-df-spinner');\n",
              "      try {\n",
              "        const charts = await google.colab.kernel.invokeFunction(\n",
              "            'suggestCharts', [key], {});\n",
              "      } catch (error) {\n",
              "        console.error('Error during call to suggestCharts:', error);\n",
              "      }\n",
              "      quickchartButtonEl.classList.remove('colab-df-spinner');\n",
              "      quickchartButtonEl.classList.add('colab-df-quickchart-complete');\n",
              "    }\n",
              "    (() => {\n",
              "      let quickchartButtonEl =\n",
              "        document.querySelector('#df-0026b426-c87a-4ee3-9110-bda1a0c9d7d9 button');\n",
              "      quickchartButtonEl.style.display =\n",
              "        google.colab.kernel.accessAllowed ? 'block' : 'none';\n",
              "    })();\n",
              "  </script>\n",
              "</div>\n",
              "    </div>\n",
              "  </div>\n"
            ],
            "text/plain": [
              "                                     0                    12  \\\n",
              "pk_cid                          1375586              1050623   \n",
              "pk_partition        2018-01-01 00:00:00  2018-01-01 00:00:00   \n",
              "short_term_deposit                False                False   \n",
              "loans                             False                False   \n",
              "mortgage                          False                False   \n",
              "funds                             False                False   \n",
              "securities                        False                False   \n",
              "long_term_deposit                 False                False   \n",
              "credit_card                       False                False   \n",
              "payroll                           False                False   \n",
              "pension_plan                      False                False   \n",
              "payroll_account                   False                False   \n",
              "emc_account                       False                False   \n",
              "debit_card                        False                False   \n",
              "em_account_p                      False                False   \n",
              "em_acount                          True                 True   \n",
              "entry_date          2018-01-01 00:00:00  2015-08-01 00:00:00   \n",
              "entry_channel                       KHL                  KHE   \n",
              "active_customer                    True                 True   \n",
              "segment               02 - PARTICULARES   03 - UNIVERSITARIO   \n",
              "country_id                           ES                   ES   \n",
              "region_code                        29.0                 49.0   \n",
              "gender                             True                 True   \n",
              "age                                  35                   23   \n",
              "deceased                              N                    N   \n",
              "pk_sale                        111967.0              93776.0   \n",
              "month_sale          2018-05-01 00:00:00  2018-02-01 00:00:00   \n",
              "product_ID                       3819.0               3819.0   \n",
              "net_margin                         56.9                 54.4   \n",
              "product_desc                 debit_card           debit_card   \n",
              "family_product             payment_card         payment_card   \n",
              "Provincia                        Malaga               Zamora   \n",
              "SalaryRange                      2Range               3Range   \n",
              "\n",
              "                                     32                   36  \\\n",
              "pk_cid                          1050602              1050580   \n",
              "pk_partition        2018-01-01 00:00:00  2018-01-01 00:00:00   \n",
              "short_term_deposit                False                False   \n",
              "loans                             False                False   \n",
              "mortgage                          False                False   \n",
              "funds                             False                False   \n",
              "securities                        False                False   \n",
              "long_term_deposit                 False                False   \n",
              "credit_card                       False                False   \n",
              "payroll                           False                False   \n",
              "pension_plan                      False                False   \n",
              "payroll_account                   False                False   \n",
              "emc_account                       False                False   \n",
              "debit_card                        False                False   \n",
              "em_account_p                      False                False   \n",
              "em_acount                          True                 True   \n",
              "entry_date          2015-08-01 00:00:00  2015-08-01 00:00:00   \n",
              "entry_channel                       KHE                  KHE   \n",
              "active_customer                    True                 True   \n",
              "segment              03 - UNIVERSITARIO   03 - UNIVERSITARIO   \n",
              "country_id                           ES                   ES   \n",
              "region_code                        37.0                 27.0   \n",
              "gender                            False                 True   \n",
              "age                                  23                   23   \n",
              "deceased                              N                    N   \n",
              "pk_sale                         93775.0              93774.0   \n",
              "month_sale          2019-04-01 00:00:00  2018-10-01 00:00:00   \n",
              "product_ID                       3819.0               3819.0   \n",
              "net_margin                         65.1                 53.5   \n",
              "product_desc                 debit_card           debit_card   \n",
              "family_product             payment_card         payment_card   \n",
              "Provincia                     Salamanca                 Lugo   \n",
              "SalaryRange                      3Range               2Range   \n",
              "\n",
              "                                     41  \n",
              "pk_cid                          1050676  \n",
              "pk_partition        2018-01-01 00:00:00  \n",
              "short_term_deposit                False  \n",
              "loans                             False  \n",
              "mortgage                          False  \n",
              "funds                             False  \n",
              "securities                        False  \n",
              "long_term_deposit                 False  \n",
              "credit_card                       False  \n",
              "payroll                           False  \n",
              "pension_plan                      False  \n",
              "payroll_account                   False  \n",
              "emc_account                        True  \n",
              "debit_card                        False  \n",
              "em_account_p                      False  \n",
              "em_acount                          True  \n",
              "entry_date          2015-08-01 00:00:00  \n",
              "entry_channel                       KFC  \n",
              "active_customer                   False  \n",
              "segment               02 - PARTICULARES  \n",
              "country_id                           ES  \n",
              "region_code                        45.0  \n",
              "gender                            False  \n",
              "age                                  31  \n",
              "deceased                              N  \n",
              "pk_sale                         93778.0  \n",
              "month_sale          2019-02-01 00:00:00  \n",
              "product_ID                       3819.0  \n",
              "net_margin                         60.4  \n",
              "product_desc                 debit_card  \n",
              "family_product             payment_card  \n",
              "Provincia                        Toledo  \n",
              "SalaryRange                      3Range  "
            ]
          },
          "execution_count": 19,
          "metadata": {},
          "output_type": "execute_result"
        }
      ],
      "source": [
        "df3.head().T"
      ]
    },
    {
      "cell_type": "code",
      "execution_count": null,
      "metadata": {
        "colab": {
          "base_uri": "https://localhost:8080/"
        },
        "id": "X1XNhKo8fkE0",
        "outputId": "0dd25e55-c33f-49bd-8c77-99bb5dcb20fb"
      },
      "outputs": [
        {
          "name": "stdout",
          "output_type": "stream",
          "text": [
            "<class 'pandas.core.frame.DataFrame'>\n",
            "Index: 1653628 entries, 0 to 5962923\n",
            "Data columns (total 33 columns):\n",
            " #   Column              Non-Null Count    Dtype         \n",
            "---  ------              --------------    -----         \n",
            " 0   pk_cid              1653628 non-null  int64         \n",
            " 1   pk_partition        1653628 non-null  datetime64[ns]\n",
            " 2   short_term_deposit  1653628 non-null  bool          \n",
            " 3   loans               1653628 non-null  bool          \n",
            " 4   mortgage            1653628 non-null  bool          \n",
            " 5   funds               1653628 non-null  bool          \n",
            " 6   securities          1653628 non-null  bool          \n",
            " 7   long_term_deposit   1653628 non-null  bool          \n",
            " 8   credit_card         1653628 non-null  bool          \n",
            " 9   payroll             1653628 non-null  bool          \n",
            " 10  pension_plan        1653628 non-null  bool          \n",
            " 11  payroll_account     1653628 non-null  bool          \n",
            " 12  emc_account         1653628 non-null  bool          \n",
            " 13  debit_card          1653628 non-null  bool          \n",
            " 14  em_account_p        1653628 non-null  bool          \n",
            " 15  em_acount           1653628 non-null  bool          \n",
            " 16  entry_date          1653628 non-null  datetime64[ns]\n",
            " 17  entry_channel       1653628 non-null  object        \n",
            " 18  active_customer     1653628 non-null  bool          \n",
            " 19  segment             1653628 non-null  object        \n",
            " 20  country_id          1653628 non-null  object        \n",
            " 21  region_code         1653628 non-null  object        \n",
            " 22  gender              1653628 non-null  bool          \n",
            " 23  age                 1653628 non-null  int64         \n",
            " 24  deceased            1653628 non-null  object        \n",
            " 25  pk_sale             1653628 non-null  object        \n",
            " 26  month_sale          1653628 non-null  datetime64[ns]\n",
            " 27  product_ID          1653628 non-null  object        \n",
            " 28  net_margin          1653628 non-null  float64       \n",
            " 29  product_desc        1653628 non-null  object        \n",
            " 30  family_product      1653628 non-null  object        \n",
            " 31  Provincia           1653628 non-null  object        \n",
            " 32  SalaryRange         1653628 non-null  object        \n",
            "dtypes: bool(16), datetime64[ns](3), float64(1), int64(2), object(11)\n",
            "memory usage: 252.3+ MB\n"
          ]
        }
      ],
      "source": [
        "df3.info()"
      ]
    },
    {
      "cell_type": "markdown",
      "metadata": {
        "id": "0BmxAzLruZkW"
      },
      "source": [
        "### 4. Modelling"
      ]
    },
    {
      "cell_type": "code",
      "execution_count": null,
      "metadata": {
        "id": "lyClioK7PCTg"
      },
      "outputs": [],
      "source": [
        "df4 =df3.copy()"
      ]
    },
    {
      "cell_type": "code",
      "execution_count": null,
      "metadata": {
        "id": "eiv-UqD1_Ocy"
      },
      "outputs": [],
      "source": [
        "df4['part_month'] = df4['pk_partition'].dt.month\n",
        "df4['part_year'] = df4['pk_partition'].dt.year\n",
        "#df4['part_day'] = df4['pk_partition'].dt.day\n",
        "df4['part_weekday'] = df4['pk_partition'].dt.weekday\n",
        "\n",
        "df4['month_month'] = df4['month_sale'].dt.month\n",
        "df4['month_year'] = df4['month_sale'].dt.year\n",
        "#df4['month_day'] = df4['month_sale'].dt.day\n",
        "df4['month_weekday'] = df4['month_sale'].dt.weekday\n",
        "\n",
        "df4['entry_month'] = df4['entry_date'].dt.month\n",
        "df4['entry_year'] = df4['entry_date'].dt.year\n",
        "#df4['entry_day'] = df4['entry_date'].dt.day\n",
        "df4['entry_weekday'] = df4['entry_date'].dt.weekday\n",
        "\n",
        "#df4.drop('pk_partition', axis=1, inplace=True)\n",
        "df4.drop('month_sale', axis=1, inplace=True)\n",
        "df4.drop('entry_date', axis=1, inplace=True)"
      ]
    },
    {
      "cell_type": "code",
      "execution_count": null,
      "metadata": {
        "colab": {
          "base_uri": "https://localhost:8080/"
        },
        "id": "J3XcjOxV7gTG",
        "outputId": "40a6eb82-e0ff-4893-96b0-f4ce2df60fd6"
      },
      "outputs": [
        {
          "data": {
            "text/plain": [
              "Index(['pk_cid', 'pk_partition', 'short_term_deposit', 'loans', 'mortgage',\n",
              "       'funds', 'securities', 'long_term_deposit', 'credit_card', 'payroll',\n",
              "       'pension_plan', 'payroll_account', 'emc_account', 'debit_card',\n",
              "       'em_account_p', 'em_acount', 'entry_channel', 'active_customer',\n",
              "       'segment', 'country_id', 'region_code', 'gender', 'age', 'deceased',\n",
              "       'pk_sale', 'product_ID', 'net_margin', 'product_desc', 'family_product',\n",
              "       'Provincia', 'SalaryRange', 'part_month', 'part_year', 'part_weekday',\n",
              "       'month_month', 'month_year', 'month_weekday', 'entry_month',\n",
              "       'entry_year', 'entry_weekday'],\n",
              "      dtype='object')"
            ]
          },
          "execution_count": 22,
          "metadata": {},
          "output_type": "execute_result"
        }
      ],
      "source": [
        "df4.columns"
      ]
    },
    {
      "cell_type": "code",
      "execution_count": null,
      "metadata": {
        "id": "-CnQQ07_7rRK"
      },
      "outputs": [],
      "source": [
        "drop_columns = ['short_term_deposit', 'loans', 'mortgage', 'funds',\n",
        "       'securities', 'long_term_deposit', 'credit_card', 'payroll',\n",
        "       'pension_plan', 'payroll_account', 'emc_account', 'debit_card',\n",
        "       'em_account_p', 'em_acount']"
      ]
    },
    {
      "cell_type": "code",
      "execution_count": null,
      "metadata": {
        "id": "3eKqI7YNRyuV"
      },
      "outputs": [],
      "source": [
        "df4['pk_cid'] = df4['pk_cid'].astype(object)"
      ]
    },
    {
      "cell_type": "code",
      "execution_count": null,
      "metadata": {
        "id": "obo9hQp_5gib"
      },
      "outputs": [],
      "source": [
        "boolean_columns = df4.select_dtypes(include='bool').columns\n",
        "df4[boolean_columns] = df4[boolean_columns].astype(int)"
      ]
    },
    {
      "cell_type": "code",
      "execution_count": null,
      "metadata": {
        "colab": {
          "base_uri": "https://localhost:8080/"
        },
        "id": "YKzMhrCXLzhP",
        "outputId": "46d966b7-67b1-40e0-e5bc-6ba610d23b44"
      },
      "outputs": [
        {
          "name": "stdout",
          "output_type": "stream",
          "text": [
            "debit_card\n",
            "payroll\n",
            "securities\n",
            "em_acount\n",
            "pension_plan\n",
            "emc_account\n",
            "credit_card\n",
            "funds\n",
            "long_term_deposit\n",
            "payroll_account\n",
            "mortgage\n",
            "short_term_deposit\n",
            "loans\n"
          ]
        }
      ],
      "source": [
        "for i in df4['product_desc'].unique():\n",
        "  print(i)"
      ]
    },
    {
      "cell_type": "code",
      "execution_count": null,
      "metadata": {
        "id": "RGh3v2YKRHqs"
      },
      "outputs": [],
      "source": [
        "df4.drop(columns = drop_columns, inplace=True)"
      ]
    },
    {
      "cell_type": "code",
      "execution_count": null,
      "metadata": {
        "id": "lmSxHY1OMsCL"
      },
      "outputs": [],
      "source": [
        "# 1. Cantidad total de productos comprados por cada usuario\n",
        "total_products = df4.groupby('pk_cid')['product_desc'].count().reset_index()\n",
        "total_products.rename(columns={'product_desc': 'total_products'}, inplace=True)"
      ]
    },
    {
      "cell_type": "code",
      "execution_count": null,
      "metadata": {
        "id": "EFklwOKbMwKe"
      },
      "outputs": [],
      "source": [
        "debit_card = df4[df4['product_desc'] == 'debit_card'].groupby('pk_cid').size().reset_index(name='debit_card')\n",
        "payroll = df4[df4['product_desc'] == 'payroll'].groupby('pk_cid').size().reset_index(name='payroll')\n",
        "securities = df4[df4['product_desc'] == 'securities'].groupby('pk_cid').size().reset_index(name='securities')\n",
        "em_acount = df4[df4['product_desc'] == 'em_acount'].groupby('pk_cid').size().reset_index(name='em_acount')\n",
        "credit_card = df4[df4['product_desc'] == 'credit_card'].groupby('pk_cid').size().reset_index(name='credit_card')\n",
        "funds = df4[df4['product_desc'] == 'funds'].groupby('pk_cid').size().reset_index(name='funds')\n",
        "long_term_deposit = df4[df4['product_desc'] == 'long_term_deposit'].groupby('pk_cid').size().reset_index(name='long_term_deposit')\n",
        "payroll_account = df4[df4['product_desc'] == 'payroll_account'].groupby('pk_cid').size().reset_index(name='payroll_account')\n",
        "mortgage = df4[df4['product_desc'] == 'mortgage'].groupby('pk_cid').size().reset_index(name='mortgage')\n",
        "short_term_deposit = df4[df4['product_desc'] == 'short_term_deposit'].groupby('pk_cid').size().reset_index(name='short_term_deposit')\n",
        "loans = df4[df4['product_desc'] == 'loans'].groupby('pk_cid').size().reset_index(name='loans')"
      ]
    },
    {
      "cell_type": "code",
      "execution_count": null,
      "metadata": {
        "colab": {
          "base_uri": "https://localhost:8080/",
          "height": 824
        },
        "id": "8FKdvGEoSaOF",
        "outputId": "361cafd2-ec19-4f78-f54e-58cff19ee043"
      },
      "outputs": [
        {
          "data": {
            "application/vnd.google.colaboratory.intrinsic+json": {
              "summary": "{\n  \"name\": \"loans\",\n  \"rows\": 25,\n  \"fields\": [\n    {\n      \"column\": \"pk_cid\",\n      \"properties\": {\n        \"dtype\": \"number\",\n        \"std\": 148058,\n        \"min\": 808433,\n        \"max\": 1398523,\n        \"num_unique_values\": 25,\n        \"samples\": [\n          1134495,\n          1254567,\n          808433\n        ],\n        \"semantic_type\": \"\",\n        \"description\": \"\"\n      }\n    },\n    {\n      \"column\": \"loans\",\n      \"properties\": {\n        \"dtype\": \"number\",\n        \"std\": 2,\n        \"min\": 3,\n        \"max\": 17,\n        \"num_unique_values\": 6,\n        \"samples\": [\n          17,\n          14,\n          3\n        ],\n        \"semantic_type\": \"\",\n        \"description\": \"\"\n      }\n    }\n  ]\n}",
              "type": "dataframe",
              "variable_name": "loans"
            },
            "text/html": [
              "\n",
              "  <div id=\"df-80a20e0e-f04e-4b55-a8db-5298e6556bfb\" class=\"colab-df-container\">\n",
              "    <div>\n",
              "<style scoped>\n",
              "    .dataframe tbody tr th:only-of-type {\n",
              "        vertical-align: middle;\n",
              "    }\n",
              "\n",
              "    .dataframe tbody tr th {\n",
              "        vertical-align: top;\n",
              "    }\n",
              "\n",
              "    .dataframe thead th {\n",
              "        text-align: right;\n",
              "    }\n",
              "</style>\n",
              "<table border=\"1\" class=\"dataframe\">\n",
              "  <thead>\n",
              "    <tr style=\"text-align: right;\">\n",
              "      <th></th>\n",
              "      <th>pk_cid</th>\n",
              "      <th>loans</th>\n",
              "    </tr>\n",
              "  </thead>\n",
              "  <tbody>\n",
              "    <tr>\n",
              "      <th>0</th>\n",
              "      <td>808433</td>\n",
              "      <td>17</td>\n",
              "    </tr>\n",
              "    <tr>\n",
              "      <th>1</th>\n",
              "      <td>1008258</td>\n",
              "      <td>17</td>\n",
              "    </tr>\n",
              "    <tr>\n",
              "      <th>2</th>\n",
              "      <td>1031343</td>\n",
              "      <td>17</td>\n",
              "    </tr>\n",
              "    <tr>\n",
              "      <th>3</th>\n",
              "      <td>1075139</td>\n",
              "      <td>17</td>\n",
              "    </tr>\n",
              "    <tr>\n",
              "      <th>4</th>\n",
              "      <td>1075423</td>\n",
              "      <td>14</td>\n",
              "    </tr>\n",
              "    <tr>\n",
              "      <th>5</th>\n",
              "      <td>1090866</td>\n",
              "      <td>17</td>\n",
              "    </tr>\n",
              "    <tr>\n",
              "      <th>6</th>\n",
              "      <td>1126796</td>\n",
              "      <td>17</td>\n",
              "    </tr>\n",
              "    <tr>\n",
              "      <th>7</th>\n",
              "      <td>1128184</td>\n",
              "      <td>17</td>\n",
              "    </tr>\n",
              "    <tr>\n",
              "      <th>8</th>\n",
              "      <td>1134495</td>\n",
              "      <td>17</td>\n",
              "    </tr>\n",
              "    <tr>\n",
              "      <th>9</th>\n",
              "      <td>1134687</td>\n",
              "      <td>17</td>\n",
              "    </tr>\n",
              "    <tr>\n",
              "      <th>10</th>\n",
              "      <td>1145641</td>\n",
              "      <td>17</td>\n",
              "    </tr>\n",
              "    <tr>\n",
              "      <th>11</th>\n",
              "      <td>1182346</td>\n",
              "      <td>17</td>\n",
              "    </tr>\n",
              "    <tr>\n",
              "      <th>12</th>\n",
              "      <td>1203441</td>\n",
              "      <td>17</td>\n",
              "    </tr>\n",
              "    <tr>\n",
              "      <th>13</th>\n",
              "      <td>1242458</td>\n",
              "      <td>17</td>\n",
              "    </tr>\n",
              "    <tr>\n",
              "      <th>14</th>\n",
              "      <td>1244109</td>\n",
              "      <td>17</td>\n",
              "    </tr>\n",
              "    <tr>\n",
              "      <th>15</th>\n",
              "      <td>1254050</td>\n",
              "      <td>17</td>\n",
              "    </tr>\n",
              "    <tr>\n",
              "      <th>16</th>\n",
              "      <td>1254567</td>\n",
              "      <td>17</td>\n",
              "    </tr>\n",
              "    <tr>\n",
              "      <th>17</th>\n",
              "      <td>1276205</td>\n",
              "      <td>17</td>\n",
              "    </tr>\n",
              "    <tr>\n",
              "      <th>18</th>\n",
              "      <td>1339690</td>\n",
              "      <td>17</td>\n",
              "    </tr>\n",
              "    <tr>\n",
              "      <th>19</th>\n",
              "      <td>1371167</td>\n",
              "      <td>17</td>\n",
              "    </tr>\n",
              "    <tr>\n",
              "      <th>20</th>\n",
              "      <td>1381221</td>\n",
              "      <td>16</td>\n",
              "    </tr>\n",
              "    <tr>\n",
              "      <th>21</th>\n",
              "      <td>1381450</td>\n",
              "      <td>16</td>\n",
              "    </tr>\n",
              "    <tr>\n",
              "      <th>22</th>\n",
              "      <td>1386300</td>\n",
              "      <td>15</td>\n",
              "    </tr>\n",
              "    <tr>\n",
              "      <th>23</th>\n",
              "      <td>1395591</td>\n",
              "      <td>13</td>\n",
              "    </tr>\n",
              "    <tr>\n",
              "      <th>24</th>\n",
              "      <td>1398523</td>\n",
              "      <td>3</td>\n",
              "    </tr>\n",
              "  </tbody>\n",
              "</table>\n",
              "</div>\n",
              "    <div class=\"colab-df-buttons\">\n",
              "\n",
              "  <div class=\"colab-df-container\">\n",
              "    <button class=\"colab-df-convert\" onclick=\"convertToInteractive('df-80a20e0e-f04e-4b55-a8db-5298e6556bfb')\"\n",
              "            title=\"Convert this dataframe to an interactive table.\"\n",
              "            style=\"display:none;\">\n",
              "\n",
              "  <svg xmlns=\"http://www.w3.org/2000/svg\" height=\"24px\" viewBox=\"0 -960 960 960\">\n",
              "    <path d=\"M120-120v-720h720v720H120Zm60-500h600v-160H180v160Zm220 220h160v-160H400v160Zm0 220h160v-160H400v160ZM180-400h160v-160H180v160Zm440 0h160v-160H620v160ZM180-180h160v-160H180v160Zm440 0h160v-160H620v160Z\"/>\n",
              "  </svg>\n",
              "    </button>\n",
              "\n",
              "  <style>\n",
              "    .colab-df-container {\n",
              "      display:flex;\n",
              "      gap: 12px;\n",
              "    }\n",
              "\n",
              "    .colab-df-convert {\n",
              "      background-color: #E8F0FE;\n",
              "      border: none;\n",
              "      border-radius: 50%;\n",
              "      cursor: pointer;\n",
              "      display: none;\n",
              "      fill: #1967D2;\n",
              "      height: 32px;\n",
              "      padding: 0 0 0 0;\n",
              "      width: 32px;\n",
              "    }\n",
              "\n",
              "    .colab-df-convert:hover {\n",
              "      background-color: #E2EBFA;\n",
              "      box-shadow: 0px 1px 2px rgba(60, 64, 67, 0.3), 0px 1px 3px 1px rgba(60, 64, 67, 0.15);\n",
              "      fill: #174EA6;\n",
              "    }\n",
              "\n",
              "    .colab-df-buttons div {\n",
              "      margin-bottom: 4px;\n",
              "    }\n",
              "\n",
              "    [theme=dark] .colab-df-convert {\n",
              "      background-color: #3B4455;\n",
              "      fill: #D2E3FC;\n",
              "    }\n",
              "\n",
              "    [theme=dark] .colab-df-convert:hover {\n",
              "      background-color: #434B5C;\n",
              "      box-shadow: 0px 1px 3px 1px rgba(0, 0, 0, 0.15);\n",
              "      filter: drop-shadow(0px 1px 2px rgba(0, 0, 0, 0.3));\n",
              "      fill: #FFFFFF;\n",
              "    }\n",
              "  </style>\n",
              "\n",
              "    <script>\n",
              "      const buttonEl =\n",
              "        document.querySelector('#df-80a20e0e-f04e-4b55-a8db-5298e6556bfb button.colab-df-convert');\n",
              "      buttonEl.style.display =\n",
              "        google.colab.kernel.accessAllowed ? 'block' : 'none';\n",
              "\n",
              "      async function convertToInteractive(key) {\n",
              "        const element = document.querySelector('#df-80a20e0e-f04e-4b55-a8db-5298e6556bfb');\n",
              "        const dataTable =\n",
              "          await google.colab.kernel.invokeFunction('convertToInteractive',\n",
              "                                                    [key], {});\n",
              "        if (!dataTable) return;\n",
              "\n",
              "        const docLinkHtml = 'Like what you see? Visit the ' +\n",
              "          '<a target=\"_blank\" href=https://colab.research.google.com/notebooks/data_table.ipynb>data table notebook</a>'\n",
              "          + ' to learn more about interactive tables.';\n",
              "        element.innerHTML = '';\n",
              "        dataTable['output_type'] = 'display_data';\n",
              "        await google.colab.output.renderOutput(dataTable, element);\n",
              "        const docLink = document.createElement('div');\n",
              "        docLink.innerHTML = docLinkHtml;\n",
              "        element.appendChild(docLink);\n",
              "      }\n",
              "    </script>\n",
              "  </div>\n",
              "\n",
              "\n",
              "<div id=\"df-512000f8-24b6-4150-97b8-337911f3302e\">\n",
              "  <button class=\"colab-df-quickchart\" onclick=\"quickchart('df-512000f8-24b6-4150-97b8-337911f3302e')\"\n",
              "            title=\"Suggest charts\"\n",
              "            style=\"display:none;\">\n",
              "\n",
              "<svg xmlns=\"http://www.w3.org/2000/svg\" height=\"24px\"viewBox=\"0 0 24 24\"\n",
              "     width=\"24px\">\n",
              "    <g>\n",
              "        <path d=\"M19 3H5c-1.1 0-2 .9-2 2v14c0 1.1.9 2 2 2h14c1.1 0 2-.9 2-2V5c0-1.1-.9-2-2-2zM9 17H7v-7h2v7zm4 0h-2V7h2v10zm4 0h-2v-4h2v4z\"/>\n",
              "    </g>\n",
              "</svg>\n",
              "  </button>\n",
              "\n",
              "<style>\n",
              "  .colab-df-quickchart {\n",
              "      --bg-color: #E8F0FE;\n",
              "      --fill-color: #1967D2;\n",
              "      --hover-bg-color: #E2EBFA;\n",
              "      --hover-fill-color: #174EA6;\n",
              "      --disabled-fill-color: #AAA;\n",
              "      --disabled-bg-color: #DDD;\n",
              "  }\n",
              "\n",
              "  [theme=dark] .colab-df-quickchart {\n",
              "      --bg-color: #3B4455;\n",
              "      --fill-color: #D2E3FC;\n",
              "      --hover-bg-color: #434B5C;\n",
              "      --hover-fill-color: #FFFFFF;\n",
              "      --disabled-bg-color: #3B4455;\n",
              "      --disabled-fill-color: #666;\n",
              "  }\n",
              "\n",
              "  .colab-df-quickchart {\n",
              "    background-color: var(--bg-color);\n",
              "    border: none;\n",
              "    border-radius: 50%;\n",
              "    cursor: pointer;\n",
              "    display: none;\n",
              "    fill: var(--fill-color);\n",
              "    height: 32px;\n",
              "    padding: 0;\n",
              "    width: 32px;\n",
              "  }\n",
              "\n",
              "  .colab-df-quickchart:hover {\n",
              "    background-color: var(--hover-bg-color);\n",
              "    box-shadow: 0 1px 2px rgba(60, 64, 67, 0.3), 0 1px 3px 1px rgba(60, 64, 67, 0.15);\n",
              "    fill: var(--button-hover-fill-color);\n",
              "  }\n",
              "\n",
              "  .colab-df-quickchart-complete:disabled,\n",
              "  .colab-df-quickchart-complete:disabled:hover {\n",
              "    background-color: var(--disabled-bg-color);\n",
              "    fill: var(--disabled-fill-color);\n",
              "    box-shadow: none;\n",
              "  }\n",
              "\n",
              "  .colab-df-spinner {\n",
              "    border: 2px solid var(--fill-color);\n",
              "    border-color: transparent;\n",
              "    border-bottom-color: var(--fill-color);\n",
              "    animation:\n",
              "      spin 1s steps(1) infinite;\n",
              "  }\n",
              "\n",
              "  @keyframes spin {\n",
              "    0% {\n",
              "      border-color: transparent;\n",
              "      border-bottom-color: var(--fill-color);\n",
              "      border-left-color: var(--fill-color);\n",
              "    }\n",
              "    20% {\n",
              "      border-color: transparent;\n",
              "      border-left-color: var(--fill-color);\n",
              "      border-top-color: var(--fill-color);\n",
              "    }\n",
              "    30% {\n",
              "      border-color: transparent;\n",
              "      border-left-color: var(--fill-color);\n",
              "      border-top-color: var(--fill-color);\n",
              "      border-right-color: var(--fill-color);\n",
              "    }\n",
              "    40% {\n",
              "      border-color: transparent;\n",
              "      border-right-color: var(--fill-color);\n",
              "      border-top-color: var(--fill-color);\n",
              "    }\n",
              "    60% {\n",
              "      border-color: transparent;\n",
              "      border-right-color: var(--fill-color);\n",
              "    }\n",
              "    80% {\n",
              "      border-color: transparent;\n",
              "      border-right-color: var(--fill-color);\n",
              "      border-bottom-color: var(--fill-color);\n",
              "    }\n",
              "    90% {\n",
              "      border-color: transparent;\n",
              "      border-bottom-color: var(--fill-color);\n",
              "    }\n",
              "  }\n",
              "</style>\n",
              "\n",
              "  <script>\n",
              "    async function quickchart(key) {\n",
              "      const quickchartButtonEl =\n",
              "        document.querySelector('#' + key + ' button');\n",
              "      quickchartButtonEl.disabled = true;  // To prevent multiple clicks.\n",
              "      quickchartButtonEl.classList.add('colab-df-spinner');\n",
              "      try {\n",
              "        const charts = await google.colab.kernel.invokeFunction(\n",
              "            'suggestCharts', [key], {});\n",
              "      } catch (error) {\n",
              "        console.error('Error during call to suggestCharts:', error);\n",
              "      }\n",
              "      quickchartButtonEl.classList.remove('colab-df-spinner');\n",
              "      quickchartButtonEl.classList.add('colab-df-quickchart-complete');\n",
              "    }\n",
              "    (() => {\n",
              "      let quickchartButtonEl =\n",
              "        document.querySelector('#df-512000f8-24b6-4150-97b8-337911f3302e button');\n",
              "      quickchartButtonEl.style.display =\n",
              "        google.colab.kernel.accessAllowed ? 'block' : 'none';\n",
              "    })();\n",
              "  </script>\n",
              "</div>\n",
              "    </div>\n",
              "  </div>\n"
            ],
            "text/plain": [
              "     pk_cid  loans\n",
              "0    808433     17\n",
              "1   1008258     17\n",
              "2   1031343     17\n",
              "3   1075139     17\n",
              "4   1075423     14\n",
              "5   1090866     17\n",
              "6   1126796     17\n",
              "7   1128184     17\n",
              "8   1134495     17\n",
              "9   1134687     17\n",
              "10  1145641     17\n",
              "11  1182346     17\n",
              "12  1203441     17\n",
              "13  1242458     17\n",
              "14  1244109     17\n",
              "15  1254050     17\n",
              "16  1254567     17\n",
              "17  1276205     17\n",
              "18  1339690     17\n",
              "19  1371167     17\n",
              "20  1381221     16\n",
              "21  1381450     16\n",
              "22  1386300     15\n",
              "23  1395591     13\n",
              "24  1398523      3"
            ]
          },
          "execution_count": 30,
          "metadata": {},
          "output_type": "execute_result"
        }
      ],
      "source": [
        "loans"
      ]
    },
    {
      "cell_type": "code",
      "execution_count": null,
      "metadata": {
        "id": "CTcgqA5oOete"
      },
      "outputs": [],
      "source": [
        "last_purchase_date = df4.groupby('pk_cid')['pk_partition'].max().reset_index()\n",
        "last_purchase_date.rename(columns={'pk_partition': 'last_purchase_date'}, inplace=True)"
      ]
    },
    {
      "cell_type": "code",
      "execution_count": null,
      "metadata": {
        "id": "wnf2FBFXOsVD"
      },
      "outputs": [],
      "source": [
        "purchase_dates = df4.groupby('pk_cid')['pk_partition'].apply(lambda x: x.diff().mean()).reset_index(name='purchase_time_variance')"
      ]
    },
    {
      "cell_type": "code",
      "execution_count": null,
      "metadata": {
        "id": "wmoZmjyqOsRa"
      },
      "outputs": [],
      "source": [
        "total_margin = df4.groupby('pk_cid')['net_margin'].sum().reset_index()\n",
        "total_margin.rename(columns={'net_margin': 'total_margin'}, inplace=True)"
      ]
    },
    {
      "cell_type": "code",
      "execution_count": null,
      "metadata": {
        "colab": {
          "base_uri": "https://localhost:8080/"
        },
        "id": "UTf9hQutPO2b",
        "outputId": "fce5f96a-9928-4cd1-b2cd-6f2c28c0fb8f"
      },
      "outputs": [
        {
          "name": "stdout",
          "output_type": "stream",
          "text": [
            "    pk_cid pk_partition entry_channel  active_customer             segment  \\\n",
            "0  1375586   2018-01-01           KHL                1   02 - PARTICULARES   \n",
            "1  1050623   2018-01-01           KHE                1  03 - UNIVERSITARIO   \n",
            "2  1050602   2018-01-01           KHE                1  03 - UNIVERSITARIO   \n",
            "3  1050580   2018-01-01           KHE                1  03 - UNIVERSITARIO   \n",
            "4  1050676   2018-01-01           KFC                0   02 - PARTICULARES   \n",
            "\n",
            "  country_id region_code  gender  age deceased  ... credit_card funds  \\\n",
            "0         ES        29.0       1   35        N  ...         NaN   NaN   \n",
            "1         ES        49.0       1   23        N  ...         NaN   NaN   \n",
            "2         ES        37.0       0   23        N  ...         NaN   NaN   \n",
            "3         ES        27.0       1   23        N  ...         NaN   NaN   \n",
            "4         ES        45.0       0   31        N  ...         NaN   NaN   \n",
            "\n",
            "   long_term_deposit payroll_account mortgage short_term_deposit loans  \\\n",
            "0                NaN             NaN      NaN                NaN   NaN   \n",
            "1                NaN             NaN      NaN                NaN   NaN   \n",
            "2                NaN             NaN      NaN                NaN   NaN   \n",
            "3                NaN             NaN      NaN                NaN   NaN   \n",
            "4                NaN             NaN      NaN                NaN   NaN   \n",
            "\n",
            "   last_purchase_date  purchase_time_variance  total_margin  \n",
            "0          2019-05-01        30 days 07:30:00         967.3  \n",
            "1          2019-05-01        30 days 07:30:00         924.8  \n",
            "2          2019-05-01        30 days 07:30:00        1106.7  \n",
            "3          2019-05-01        30 days 07:30:00         909.5  \n",
            "4          2019-05-01        30 days 07:30:00        1026.8  \n",
            "\n",
            "[5 rows x 41 columns]\n"
          ]
        }
      ],
      "source": [
        "features_df = total_products.merge(debit_card, on='pk_cid', how='left')\n",
        "features_df = features_df.merge(payroll, on='pk_cid', how='left')\n",
        "features_df = features_df.merge(securities, on='pk_cid', how='left')\n",
        "features_df = features_df.merge(em_acount, on='pk_cid', how='left')\n",
        "features_df = features_df.merge(credit_card, on='pk_cid', how='left')\n",
        "features_df = features_df.merge(funds, on='pk_cid', how='left')\n",
        "features_df = features_df.merge(long_term_deposit, on='pk_cid', how='left')\n",
        "features_df = features_df.merge(payroll_account, on='pk_cid', how='left')\n",
        "features_df = features_df.merge(mortgage, on='pk_cid', how='left')\n",
        "features_df = features_df.merge(short_term_deposit, on='pk_cid', how='left')\n",
        "features_df = features_df.merge(loans, on='pk_cid', how='left')\n",
        "features_df = features_df.merge(last_purchase_date, on='pk_cid', how='left')\n",
        "features_df = features_df.merge(purchase_dates, on='pk_cid', how='left')\n",
        "features_df = features_df.merge(total_margin, on='pk_cid', how='left')\n",
        "features_df = df4.merge(features_df, on='pk_cid', how='left')\n",
        "\n",
        "# Mostrar las primeras filas del DataFrame resultante\n",
        "print(features_df.head())"
      ]
    },
    {
      "cell_type": "code",
      "execution_count": null,
      "metadata": {
        "colab": {
          "background_save": true
        },
        "id": "h69M_16QTFUa"
      },
      "outputs": [],
      "source": [
        "features_df = features_df.groupby('pk_cid').apply(lambda group: group.fillna(method='bfill').fillna(method='ffill'))"
      ]
    },
    {
      "cell_type": "code",
      "execution_count": null,
      "metadata": {
        "colab": {
          "background_save": true
        },
        "id": "4_frzP3rSchZ",
        "outputId": "81a70e6d-a4c2-4a74-f6cb-303142e0c984"
      },
      "outputs": [
        {
          "data": {
            "text/plain": [
              "pk_cid                          0\n",
              "pk_partition                    0\n",
              "entry_channel                   0\n",
              "active_customer                 0\n",
              "segment                         0\n",
              "country_id                      0\n",
              "region_code                     0\n",
              "gender                          0\n",
              "age                             0\n",
              "deceased                        0\n",
              "pk_sale                         0\n",
              "product_ID                      0\n",
              "net_margin                      0\n",
              "product_desc                    0\n",
              "family_product                  0\n",
              "Provincia                       0\n",
              "SalaryRange                     0\n",
              "part_month                      0\n",
              "part_year                       0\n",
              "part_weekday                    0\n",
              "month_month                     0\n",
              "month_year                      0\n",
              "month_weekday                   0\n",
              "entry_month                     0\n",
              "entry_year                      0\n",
              "entry_weekday                   0\n",
              "total_products                  0\n",
              "debit_card                1303797\n",
              "payroll                   1416595\n",
              "securities                1639959\n",
              "em_acount                  903851\n",
              "credit_card               1579490\n",
              "funds                     1641399\n",
              "long_term_deposit         1613800\n",
              "payroll_account           1628533\n",
              "mortgage                  1653479\n",
              "short_term_deposit        1598780\n",
              "loans                     1653228\n",
              "last_purchase_date              0\n",
              "purchase_time_variance       1645\n",
              "total_margin                    0\n",
              "dtype: int64"
            ]
          },
          "execution_count": 36,
          "metadata": {},
          "output_type": "execute_result"
        }
      ],
      "source": [
        "features_df.isna().sum()"
      ]
    },
    {
      "cell_type": "code",
      "execution_count": null,
      "metadata": {
        "colab": {
          "background_save": true
        },
        "id": "gfn9vIHz_QwL",
        "outputId": "a65f7a6f-e870-4ba3-c2dd-159b0aa04cc6"
      },
      "outputs": [
        {
          "data": {
            "application/vnd.google.colaboratory.intrinsic+json": {
              "type": "dataframe",
              "variable_name": "features_df"
            },
            "text/html": [
              "\n",
              "  <div id=\"df-1476c9cb-7032-44d0-a6d5-61a05135edcc\" class=\"colab-df-container\">\n",
              "    <div>\n",
              "<style scoped>\n",
              "    .dataframe tbody tr th:only-of-type {\n",
              "        vertical-align: middle;\n",
              "    }\n",
              "\n",
              "    .dataframe tbody tr th {\n",
              "        vertical-align: top;\n",
              "    }\n",
              "\n",
              "    .dataframe thead th {\n",
              "        text-align: right;\n",
              "    }\n",
              "</style>\n",
              "<table border=\"1\" class=\"dataframe\">\n",
              "  <thead>\n",
              "    <tr style=\"text-align: right;\">\n",
              "      <th></th>\n",
              "      <th></th>\n",
              "      <th>pk_cid</th>\n",
              "      <th>pk_partition</th>\n",
              "      <th>entry_channel</th>\n",
              "      <th>active_customer</th>\n",
              "      <th>segment</th>\n",
              "      <th>country_id</th>\n",
              "      <th>region_code</th>\n",
              "      <th>gender</th>\n",
              "      <th>age</th>\n",
              "      <th>deceased</th>\n",
              "      <th>...</th>\n",
              "      <th>credit_card</th>\n",
              "      <th>funds</th>\n",
              "      <th>long_term_deposit</th>\n",
              "      <th>payroll_account</th>\n",
              "      <th>mortgage</th>\n",
              "      <th>short_term_deposit</th>\n",
              "      <th>loans</th>\n",
              "      <th>last_purchase_date</th>\n",
              "      <th>purchase_time_variance</th>\n",
              "      <th>total_margin</th>\n",
              "    </tr>\n",
              "    <tr>\n",
              "      <th>pk_cid</th>\n",
              "      <th></th>\n",
              "      <th></th>\n",
              "      <th></th>\n",
              "      <th></th>\n",
              "      <th></th>\n",
              "      <th></th>\n",
              "      <th></th>\n",
              "      <th></th>\n",
              "      <th></th>\n",
              "      <th></th>\n",
              "      <th></th>\n",
              "      <th></th>\n",
              "      <th></th>\n",
              "      <th></th>\n",
              "      <th></th>\n",
              "      <th></th>\n",
              "      <th></th>\n",
              "      <th></th>\n",
              "      <th></th>\n",
              "      <th></th>\n",
              "      <th></th>\n",
              "      <th></th>\n",
              "    </tr>\n",
              "  </thead>\n",
              "  <tbody>\n",
              "    <tr>\n",
              "      <th rowspan=\"2\" valign=\"top\">15891</th>\n",
              "      <th>282174</th>\n",
              "      <td>15891</td>\n",
              "      <td>2018-07-01</td>\n",
              "      <td>KAT</td>\n",
              "      <td>1</td>\n",
              "      <td>04 - SINCATEGORIA</td>\n",
              "      <td>ES</td>\n",
              "      <td>28.0</td>\n",
              "      <td>1</td>\n",
              "      <td>59</td>\n",
              "      <td>N</td>\n",
              "      <td>...</td>\n",
              "      <td>NaN</td>\n",
              "      <td>NaN</td>\n",
              "      <td>NaN</td>\n",
              "      <td>NaN</td>\n",
              "      <td>NaN</td>\n",
              "      <td>NaN</td>\n",
              "      <td>NaN</td>\n",
              "      <td>2018-08-01</td>\n",
              "      <td>31 days 00:00:00</td>\n",
              "      <td>132.8</td>\n",
              "    </tr>\n",
              "    <tr>\n",
              "      <th>437434</th>\n",
              "      <td>15891</td>\n",
              "      <td>2018-08-01</td>\n",
              "      <td>KAT</td>\n",
              "      <td>0</td>\n",
              "      <td>02 - PARTICULARES</td>\n",
              "      <td>ES</td>\n",
              "      <td>28.0</td>\n",
              "      <td>1</td>\n",
              "      <td>59</td>\n",
              "      <td>N</td>\n",
              "      <td>...</td>\n",
              "      <td>NaN</td>\n",
              "      <td>NaN</td>\n",
              "      <td>NaN</td>\n",
              "      <td>NaN</td>\n",
              "      <td>NaN</td>\n",
              "      <td>NaN</td>\n",
              "      <td>NaN</td>\n",
              "      <td>2018-08-01</td>\n",
              "      <td>31 days 00:00:00</td>\n",
              "      <td>132.8</td>\n",
              "    </tr>\n",
              "    <tr>\n",
              "      <th rowspan=\"3\" valign=\"top\">16203</th>\n",
              "      <th>828563</th>\n",
              "      <td>16203</td>\n",
              "      <td>2018-12-01</td>\n",
              "      <td>KAT</td>\n",
              "      <td>0</td>\n",
              "      <td>04 - SINCATEGORIA</td>\n",
              "      <td>ES</td>\n",
              "      <td>8.0</td>\n",
              "      <td>0</td>\n",
              "      <td>70</td>\n",
              "      <td>N</td>\n",
              "      <td>...</td>\n",
              "      <td>NaN</td>\n",
              "      <td>NaN</td>\n",
              "      <td>NaN</td>\n",
              "      <td>NaN</td>\n",
              "      <td>NaN</td>\n",
              "      <td>NaN</td>\n",
              "      <td>NaN</td>\n",
              "      <td>2019-05-01</td>\n",
              "      <td>30 days 04:48:00</td>\n",
              "      <td>580.2</td>\n",
              "    </tr>\n",
              "    <tr>\n",
              "      <th>1039916</th>\n",
              "      <td>16203</td>\n",
              "      <td>2019-01-01</td>\n",
              "      <td>KAT</td>\n",
              "      <td>1</td>\n",
              "      <td>02 - PARTICULARES</td>\n",
              "      <td>ES</td>\n",
              "      <td>8.0</td>\n",
              "      <td>0</td>\n",
              "      <td>70</td>\n",
              "      <td>N</td>\n",
              "      <td>...</td>\n",
              "      <td>NaN</td>\n",
              "      <td>NaN</td>\n",
              "      <td>NaN</td>\n",
              "      <td>NaN</td>\n",
              "      <td>NaN</td>\n",
              "      <td>NaN</td>\n",
              "      <td>NaN</td>\n",
              "      <td>2019-05-01</td>\n",
              "      <td>30 days 04:48:00</td>\n",
              "      <td>580.2</td>\n",
              "    </tr>\n",
              "    <tr>\n",
              "      <th>1189603</th>\n",
              "      <td>16203</td>\n",
              "      <td>2019-02-01</td>\n",
              "      <td>KAT</td>\n",
              "      <td>1</td>\n",
              "      <td>01 - TOP</td>\n",
              "      <td>ES</td>\n",
              "      <td>8.0</td>\n",
              "      <td>0</td>\n",
              "      <td>70</td>\n",
              "      <td>N</td>\n",
              "      <td>...</td>\n",
              "      <td>NaN</td>\n",
              "      <td>NaN</td>\n",
              "      <td>NaN</td>\n",
              "      <td>NaN</td>\n",
              "      <td>NaN</td>\n",
              "      <td>NaN</td>\n",
              "      <td>NaN</td>\n",
              "      <td>2019-05-01</td>\n",
              "      <td>30 days 04:48:00</td>\n",
              "      <td>580.2</td>\n",
              "    </tr>\n",
              "    <tr>\n",
              "      <th>...</th>\n",
              "      <th>...</th>\n",
              "      <td>...</td>\n",
              "      <td>...</td>\n",
              "      <td>...</td>\n",
              "      <td>...</td>\n",
              "      <td>...</td>\n",
              "      <td>...</td>\n",
              "      <td>...</td>\n",
              "      <td>...</td>\n",
              "      <td>...</td>\n",
              "      <td>...</td>\n",
              "      <td>...</td>\n",
              "      <td>...</td>\n",
              "      <td>...</td>\n",
              "      <td>...</td>\n",
              "      <td>...</td>\n",
              "      <td>...</td>\n",
              "      <td>...</td>\n",
              "      <td>...</td>\n",
              "      <td>...</td>\n",
              "      <td>...</td>\n",
              "      <td>...</td>\n",
              "    </tr>\n",
              "    <tr>\n",
              "      <th>1553456</th>\n",
              "      <th>1565842</th>\n",
              "      <td>1553456</td>\n",
              "      <td>2019-05-01</td>\n",
              "      <td>UKNOWN</td>\n",
              "      <td>1</td>\n",
              "      <td>04 - SINCATEGORIA</td>\n",
              "      <td>ES</td>\n",
              "      <td>28.0</td>\n",
              "      <td>1</td>\n",
              "      <td>32</td>\n",
              "      <td>N</td>\n",
              "      <td>...</td>\n",
              "      <td>NaN</td>\n",
              "      <td>NaN</td>\n",
              "      <td>NaN</td>\n",
              "      <td>NaN</td>\n",
              "      <td>NaN</td>\n",
              "      <td>NaN</td>\n",
              "      <td>NaN</td>\n",
              "      <td>2019-05-01</td>\n",
              "      <td>NaT</td>\n",
              "      <td>56.7</td>\n",
              "    </tr>\n",
              "    <tr>\n",
              "      <th>1553541</th>\n",
              "      <th>1565839</th>\n",
              "      <td>1553541</td>\n",
              "      <td>2019-05-01</td>\n",
              "      <td>UKNOWN</td>\n",
              "      <td>1</td>\n",
              "      <td>04 - SINCATEGORIA</td>\n",
              "      <td>ES</td>\n",
              "      <td>49.0</td>\n",
              "      <td>0</td>\n",
              "      <td>54</td>\n",
              "      <td>N</td>\n",
              "      <td>...</td>\n",
              "      <td>NaN</td>\n",
              "      <td>NaN</td>\n",
              "      <td>NaN</td>\n",
              "      <td>NaN</td>\n",
              "      <td>NaN</td>\n",
              "      <td>NaN</td>\n",
              "      <td>NaN</td>\n",
              "      <td>2019-05-01</td>\n",
              "      <td>NaT</td>\n",
              "      <td>66.5</td>\n",
              "    </tr>\n",
              "    <tr>\n",
              "      <th>1553559</th>\n",
              "      <th>1565846</th>\n",
              "      <td>1553559</td>\n",
              "      <td>2019-05-01</td>\n",
              "      <td>UKNOWN</td>\n",
              "      <td>1</td>\n",
              "      <td>04 - SINCATEGORIA</td>\n",
              "      <td>ES</td>\n",
              "      <td>8.0</td>\n",
              "      <td>1</td>\n",
              "      <td>43</td>\n",
              "      <td>N</td>\n",
              "      <td>...</td>\n",
              "      <td>NaN</td>\n",
              "      <td>NaN</td>\n",
              "      <td>NaN</td>\n",
              "      <td>NaN</td>\n",
              "      <td>NaN</td>\n",
              "      <td>NaN</td>\n",
              "      <td>NaN</td>\n",
              "      <td>2019-05-01</td>\n",
              "      <td>NaT</td>\n",
              "      <td>73.0</td>\n",
              "    </tr>\n",
              "    <tr>\n",
              "      <th>1553565</th>\n",
              "      <th>1565845</th>\n",
              "      <td>1553565</td>\n",
              "      <td>2019-05-01</td>\n",
              "      <td>UKNOWN</td>\n",
              "      <td>0</td>\n",
              "      <td>04 - SINCATEGORIA</td>\n",
              "      <td>ES</td>\n",
              "      <td>45.0</td>\n",
              "      <td>1</td>\n",
              "      <td>68</td>\n",
              "      <td>N</td>\n",
              "      <td>...</td>\n",
              "      <td>NaN</td>\n",
              "      <td>NaN</td>\n",
              "      <td>NaN</td>\n",
              "      <td>NaN</td>\n",
              "      <td>NaN</td>\n",
              "      <td>NaN</td>\n",
              "      <td>NaN</td>\n",
              "      <td>2019-05-01</td>\n",
              "      <td>NaT</td>\n",
              "      <td>82.3</td>\n",
              "    </tr>\n",
              "    <tr>\n",
              "      <th>1553571</th>\n",
              "      <th>1565844</th>\n",
              "      <td>1553571</td>\n",
              "      <td>2019-05-01</td>\n",
              "      <td>UKNOWN</td>\n",
              "      <td>1</td>\n",
              "      <td>04 - SINCATEGORIA</td>\n",
              "      <td>ES</td>\n",
              "      <td>15.0</td>\n",
              "      <td>0</td>\n",
              "      <td>30</td>\n",
              "      <td>N</td>\n",
              "      <td>...</td>\n",
              "      <td>NaN</td>\n",
              "      <td>NaN</td>\n",
              "      <td>NaN</td>\n",
              "      <td>NaN</td>\n",
              "      <td>NaN</td>\n",
              "      <td>NaN</td>\n",
              "      <td>NaN</td>\n",
              "      <td>2019-05-01</td>\n",
              "      <td>NaT</td>\n",
              "      <td>84.4</td>\n",
              "    </tr>\n",
              "  </tbody>\n",
              "</table>\n",
              "<p>1653628 rows × 41 columns</p>\n",
              "</div>\n",
              "    <div class=\"colab-df-buttons\">\n",
              "\n",
              "  <div class=\"colab-df-container\">\n",
              "    <button class=\"colab-df-convert\" onclick=\"convertToInteractive('df-1476c9cb-7032-44d0-a6d5-61a05135edcc')\"\n",
              "            title=\"Convert this dataframe to an interactive table.\"\n",
              "            style=\"display:none;\">\n",
              "\n",
              "  <svg xmlns=\"http://www.w3.org/2000/svg\" height=\"24px\" viewBox=\"0 -960 960 960\">\n",
              "    <path d=\"M120-120v-720h720v720H120Zm60-500h600v-160H180v160Zm220 220h160v-160H400v160Zm0 220h160v-160H400v160ZM180-400h160v-160H180v160Zm440 0h160v-160H620v160ZM180-180h160v-160H180v160Zm440 0h160v-160H620v160Z\"/>\n",
              "  </svg>\n",
              "    </button>\n",
              "\n",
              "  <style>\n",
              "    .colab-df-container {\n",
              "      display:flex;\n",
              "      gap: 12px;\n",
              "    }\n",
              "\n",
              "    .colab-df-convert {\n",
              "      background-color: #E8F0FE;\n",
              "      border: none;\n",
              "      border-radius: 50%;\n",
              "      cursor: pointer;\n",
              "      display: none;\n",
              "      fill: #1967D2;\n",
              "      height: 32px;\n",
              "      padding: 0 0 0 0;\n",
              "      width: 32px;\n",
              "    }\n",
              "\n",
              "    .colab-df-convert:hover {\n",
              "      background-color: #E2EBFA;\n",
              "      box-shadow: 0px 1px 2px rgba(60, 64, 67, 0.3), 0px 1px 3px 1px rgba(60, 64, 67, 0.15);\n",
              "      fill: #174EA6;\n",
              "    }\n",
              "\n",
              "    .colab-df-buttons div {\n",
              "      margin-bottom: 4px;\n",
              "    }\n",
              "\n",
              "    [theme=dark] .colab-df-convert {\n",
              "      background-color: #3B4455;\n",
              "      fill: #D2E3FC;\n",
              "    }\n",
              "\n",
              "    [theme=dark] .colab-df-convert:hover {\n",
              "      background-color: #434B5C;\n",
              "      box-shadow: 0px 1px 3px 1px rgba(0, 0, 0, 0.15);\n",
              "      filter: drop-shadow(0px 1px 2px rgba(0, 0, 0, 0.3));\n",
              "      fill: #FFFFFF;\n",
              "    }\n",
              "  </style>\n",
              "\n",
              "    <script>\n",
              "      const buttonEl =\n",
              "        document.querySelector('#df-1476c9cb-7032-44d0-a6d5-61a05135edcc button.colab-df-convert');\n",
              "      buttonEl.style.display =\n",
              "        google.colab.kernel.accessAllowed ? 'block' : 'none';\n",
              "\n",
              "      async function convertToInteractive(key) {\n",
              "        const element = document.querySelector('#df-1476c9cb-7032-44d0-a6d5-61a05135edcc');\n",
              "        const dataTable =\n",
              "          await google.colab.kernel.invokeFunction('convertToInteractive',\n",
              "                                                    [key], {});\n",
              "        if (!dataTable) return;\n",
              "\n",
              "        const docLinkHtml = 'Like what you see? Visit the ' +\n",
              "          '<a target=\"_blank\" href=https://colab.research.google.com/notebooks/data_table.ipynb>data table notebook</a>'\n",
              "          + ' to learn more about interactive tables.';\n",
              "        element.innerHTML = '';\n",
              "        dataTable['output_type'] = 'display_data';\n",
              "        await google.colab.output.renderOutput(dataTable, element);\n",
              "        const docLink = document.createElement('div');\n",
              "        docLink.innerHTML = docLinkHtml;\n",
              "        element.appendChild(docLink);\n",
              "      }\n",
              "    </script>\n",
              "  </div>\n",
              "\n",
              "\n",
              "<div id=\"df-57a55fa5-0978-452b-9a86-4732aeb55646\">\n",
              "  <button class=\"colab-df-quickchart\" onclick=\"quickchart('df-57a55fa5-0978-452b-9a86-4732aeb55646')\"\n",
              "            title=\"Suggest charts\"\n",
              "            style=\"display:none;\">\n",
              "\n",
              "<svg xmlns=\"http://www.w3.org/2000/svg\" height=\"24px\"viewBox=\"0 0 24 24\"\n",
              "     width=\"24px\">\n",
              "    <g>\n",
              "        <path d=\"M19 3H5c-1.1 0-2 .9-2 2v14c0 1.1.9 2 2 2h14c1.1 0 2-.9 2-2V5c0-1.1-.9-2-2-2zM9 17H7v-7h2v7zm4 0h-2V7h2v10zm4 0h-2v-4h2v4z\"/>\n",
              "    </g>\n",
              "</svg>\n",
              "  </button>\n",
              "\n",
              "<style>\n",
              "  .colab-df-quickchart {\n",
              "      --bg-color: #E8F0FE;\n",
              "      --fill-color: #1967D2;\n",
              "      --hover-bg-color: #E2EBFA;\n",
              "      --hover-fill-color: #174EA6;\n",
              "      --disabled-fill-color: #AAA;\n",
              "      --disabled-bg-color: #DDD;\n",
              "  }\n",
              "\n",
              "  [theme=dark] .colab-df-quickchart {\n",
              "      --bg-color: #3B4455;\n",
              "      --fill-color: #D2E3FC;\n",
              "      --hover-bg-color: #434B5C;\n",
              "      --hover-fill-color: #FFFFFF;\n",
              "      --disabled-bg-color: #3B4455;\n",
              "      --disabled-fill-color: #666;\n",
              "  }\n",
              "\n",
              "  .colab-df-quickchart {\n",
              "    background-color: var(--bg-color);\n",
              "    border: none;\n",
              "    border-radius: 50%;\n",
              "    cursor: pointer;\n",
              "    display: none;\n",
              "    fill: var(--fill-color);\n",
              "    height: 32px;\n",
              "    padding: 0;\n",
              "    width: 32px;\n",
              "  }\n",
              "\n",
              "  .colab-df-quickchart:hover {\n",
              "    background-color: var(--hover-bg-color);\n",
              "    box-shadow: 0 1px 2px rgba(60, 64, 67, 0.3), 0 1px 3px 1px rgba(60, 64, 67, 0.15);\n",
              "    fill: var(--button-hover-fill-color);\n",
              "  }\n",
              "\n",
              "  .colab-df-quickchart-complete:disabled,\n",
              "  .colab-df-quickchart-complete:disabled:hover {\n",
              "    background-color: var(--disabled-bg-color);\n",
              "    fill: var(--disabled-fill-color);\n",
              "    box-shadow: none;\n",
              "  }\n",
              "\n",
              "  .colab-df-spinner {\n",
              "    border: 2px solid var(--fill-color);\n",
              "    border-color: transparent;\n",
              "    border-bottom-color: var(--fill-color);\n",
              "    animation:\n",
              "      spin 1s steps(1) infinite;\n",
              "  }\n",
              "\n",
              "  @keyframes spin {\n",
              "    0% {\n",
              "      border-color: transparent;\n",
              "      border-bottom-color: var(--fill-color);\n",
              "      border-left-color: var(--fill-color);\n",
              "    }\n",
              "    20% {\n",
              "      border-color: transparent;\n",
              "      border-left-color: var(--fill-color);\n",
              "      border-top-color: var(--fill-color);\n",
              "    }\n",
              "    30% {\n",
              "      border-color: transparent;\n",
              "      border-left-color: var(--fill-color);\n",
              "      border-top-color: var(--fill-color);\n",
              "      border-right-color: var(--fill-color);\n",
              "    }\n",
              "    40% {\n",
              "      border-color: transparent;\n",
              "      border-right-color: var(--fill-color);\n",
              "      border-top-color: var(--fill-color);\n",
              "    }\n",
              "    60% {\n",
              "      border-color: transparent;\n",
              "      border-right-color: var(--fill-color);\n",
              "    }\n",
              "    80% {\n",
              "      border-color: transparent;\n",
              "      border-right-color: var(--fill-color);\n",
              "      border-bottom-color: var(--fill-color);\n",
              "    }\n",
              "    90% {\n",
              "      border-color: transparent;\n",
              "      border-bottom-color: var(--fill-color);\n",
              "    }\n",
              "  }\n",
              "</style>\n",
              "\n",
              "  <script>\n",
              "    async function quickchart(key) {\n",
              "      const quickchartButtonEl =\n",
              "        document.querySelector('#' + key + ' button');\n",
              "      quickchartButtonEl.disabled = true;  // To prevent multiple clicks.\n",
              "      quickchartButtonEl.classList.add('colab-df-spinner');\n",
              "      try {\n",
              "        const charts = await google.colab.kernel.invokeFunction(\n",
              "            'suggestCharts', [key], {});\n",
              "      } catch (error) {\n",
              "        console.error('Error during call to suggestCharts:', error);\n",
              "      }\n",
              "      quickchartButtonEl.classList.remove('colab-df-spinner');\n",
              "      quickchartButtonEl.classList.add('colab-df-quickchart-complete');\n",
              "    }\n",
              "    (() => {\n",
              "      let quickchartButtonEl =\n",
              "        document.querySelector('#df-57a55fa5-0978-452b-9a86-4732aeb55646 button');\n",
              "      quickchartButtonEl.style.display =\n",
              "        google.colab.kernel.accessAllowed ? 'block' : 'none';\n",
              "    })();\n",
              "  </script>\n",
              "</div>\n",
              "    </div>\n",
              "  </div>\n"
            ],
            "text/plain": [
              "                  pk_cid pk_partition entry_channel  active_customer  \\\n",
              "pk_cid                                                                 \n",
              "15891   282174     15891   2018-07-01           KAT                1   \n",
              "        437434     15891   2018-08-01           KAT                0   \n",
              "16203   828563     16203   2018-12-01           KAT                0   \n",
              "        1039916    16203   2019-01-01           KAT                1   \n",
              "        1189603    16203   2019-02-01           KAT                1   \n",
              "...                  ...          ...           ...              ...   \n",
              "1553456 1565842  1553456   2019-05-01        UKNOWN                1   \n",
              "1553541 1565839  1553541   2019-05-01        UKNOWN                1   \n",
              "1553559 1565846  1553559   2019-05-01        UKNOWN                1   \n",
              "1553565 1565845  1553565   2019-05-01        UKNOWN                0   \n",
              "1553571 1565844  1553571   2019-05-01        UKNOWN                1   \n",
              "\n",
              "                           segment country_id  region_code  gender  age  \\\n",
              "pk_cid                                                                    \n",
              "15891   282174   04 - SINCATEGORIA         ES         28.0       1   59   \n",
              "        437434   02 - PARTICULARES         ES         28.0       1   59   \n",
              "16203   828563   04 - SINCATEGORIA         ES          8.0       0   70   \n",
              "        1039916  02 - PARTICULARES         ES          8.0       0   70   \n",
              "        1189603           01 - TOP         ES          8.0       0   70   \n",
              "...                            ...        ...          ...     ...  ...   \n",
              "1553456 1565842  04 - SINCATEGORIA         ES         28.0       1   32   \n",
              "1553541 1565839  04 - SINCATEGORIA         ES         49.0       0   54   \n",
              "1553559 1565846  04 - SINCATEGORIA         ES          8.0       1   43   \n",
              "1553565 1565845  04 - SINCATEGORIA         ES         45.0       1   68   \n",
              "1553571 1565844  04 - SINCATEGORIA         ES         15.0       0   30   \n",
              "\n",
              "                deceased  ...  credit_card  funds  long_term_deposit  \\\n",
              "pk_cid                    ...                                          \n",
              "15891   282174         N  ...          NaN    NaN                NaN   \n",
              "        437434         N  ...          NaN    NaN                NaN   \n",
              "16203   828563         N  ...          NaN    NaN                NaN   \n",
              "        1039916        N  ...          NaN    NaN                NaN   \n",
              "        1189603        N  ...          NaN    NaN                NaN   \n",
              "...                  ...  ...          ...    ...                ...   \n",
              "1553456 1565842        N  ...          NaN    NaN                NaN   \n",
              "1553541 1565839        N  ...          NaN    NaN                NaN   \n",
              "1553559 1565846        N  ...          NaN    NaN                NaN   \n",
              "1553565 1565845        N  ...          NaN    NaN                NaN   \n",
              "1553571 1565844        N  ...          NaN    NaN                NaN   \n",
              "\n",
              "                payroll_account mortgage short_term_deposit loans  \\\n",
              "pk_cid                                                              \n",
              "15891   282174              NaN      NaN                NaN   NaN   \n",
              "        437434              NaN      NaN                NaN   NaN   \n",
              "16203   828563              NaN      NaN                NaN   NaN   \n",
              "        1039916             NaN      NaN                NaN   NaN   \n",
              "        1189603             NaN      NaN                NaN   NaN   \n",
              "...                         ...      ...                ...   ...   \n",
              "1553456 1565842             NaN      NaN                NaN   NaN   \n",
              "1553541 1565839             NaN      NaN                NaN   NaN   \n",
              "1553559 1565846             NaN      NaN                NaN   NaN   \n",
              "1553565 1565845             NaN      NaN                NaN   NaN   \n",
              "1553571 1565844             NaN      NaN                NaN   NaN   \n",
              "\n",
              "                 last_purchase_date  purchase_time_variance  total_margin  \n",
              "pk_cid                                                                     \n",
              "15891   282174           2018-08-01        31 days 00:00:00         132.8  \n",
              "        437434           2018-08-01        31 days 00:00:00         132.8  \n",
              "16203   828563           2019-05-01        30 days 04:48:00         580.2  \n",
              "        1039916          2019-05-01        30 days 04:48:00         580.2  \n",
              "        1189603          2019-05-01        30 days 04:48:00         580.2  \n",
              "...                             ...                     ...           ...  \n",
              "1553456 1565842          2019-05-01                     NaT          56.7  \n",
              "1553541 1565839          2019-05-01                     NaT          66.5  \n",
              "1553559 1565846          2019-05-01                     NaT          73.0  \n",
              "1553565 1565845          2019-05-01                     NaT          82.3  \n",
              "1553571 1565844          2019-05-01                     NaT          84.4  \n",
              "\n",
              "[1653628 rows x 41 columns]"
            ]
          },
          "execution_count": 37,
          "metadata": {},
          "output_type": "execute_result"
        }
      ],
      "source": [
        "features_df"
      ]
    },
    {
      "cell_type": "code",
      "execution_count": null,
      "metadata": {
        "colab": {
          "background_save": true
        },
        "id": "wYULRxVPW5tg"
      },
      "outputs": [],
      "source": [
        "features_df.fillna(0,inplace=True)"
      ]
    },
    {
      "cell_type": "code",
      "execution_count": null,
      "metadata": {
        "colab": {
          "background_save": true
        },
        "id": "cxnLeelPWtX6"
      },
      "outputs": [],
      "source": [
        "features_df.reset_index(drop=True, inplace=True)"
      ]
    },
    {
      "cell_type": "code",
      "execution_count": null,
      "metadata": {
        "colab": {
          "background_save": true
        },
        "id": "w76rxVi_YlXk",
        "outputId": "2b4627f4-7a09-4a09-8879-3d78be70ad5d"
      },
      "outputs": [
        {
          "name": "stdout",
          "output_type": "stream",
          "text": [
            "<class 'pandas.core.frame.DataFrame'>\n",
            "RangeIndex: 1653628 entries, 0 to 1653627\n",
            "Data columns (total 41 columns):\n",
            " #   Column                  Non-Null Count    Dtype         \n",
            "---  ------                  --------------    -----         \n",
            " 0   pk_cid                  1653628 non-null  int64         \n",
            " 1   pk_partition            1653628 non-null  datetime64[ns]\n",
            " 2   entry_channel           1653628 non-null  object        \n",
            " 3   active_customer         1653628 non-null  int64         \n",
            " 4   segment                 1653628 non-null  object        \n",
            " 5   country_id              1653628 non-null  object        \n",
            " 6   region_code             1653628 non-null  float64       \n",
            " 7   gender                  1653628 non-null  int64         \n",
            " 8   age                     1653628 non-null  int64         \n",
            " 9   deceased                1653628 non-null  object        \n",
            " 10  pk_sale                 1653628 non-null  float64       \n",
            " 11  product_ID              1653628 non-null  float64       \n",
            " 12  net_margin              1653628 non-null  float64       \n",
            " 13  product_desc            1653628 non-null  object        \n",
            " 14  family_product          1653628 non-null  object        \n",
            " 15  Provincia               1653628 non-null  object        \n",
            " 16  SalaryRange             1653628 non-null  object        \n",
            " 17  part_month              1653628 non-null  int32         \n",
            " 18  part_year               1653628 non-null  int32         \n",
            " 19  part_weekday            1653628 non-null  int32         \n",
            " 20  month_month             1653628 non-null  int32         \n",
            " 21  month_year              1653628 non-null  int32         \n",
            " 22  month_weekday           1653628 non-null  int32         \n",
            " 23  entry_month             1653628 non-null  int32         \n",
            " 24  entry_year              1653628 non-null  int32         \n",
            " 25  entry_weekday           1653628 non-null  int32         \n",
            " 26  total_products          1653628 non-null  int64         \n",
            " 27  debit_card              1653628 non-null  float64       \n",
            " 28  payroll                 1653628 non-null  float64       \n",
            " 29  securities              1653628 non-null  float64       \n",
            " 30  em_acount               1653628 non-null  float64       \n",
            " 31  credit_card             1653628 non-null  float64       \n",
            " 32  funds                   1653628 non-null  float64       \n",
            " 33  long_term_deposit       1653628 non-null  float64       \n",
            " 34  payroll_account         1653628 non-null  float64       \n",
            " 35  mortgage                1653628 non-null  float64       \n",
            " 36  short_term_deposit      1653628 non-null  float64       \n",
            " 37  loans                   1653628 non-null  float64       \n",
            " 38  last_purchase_date      1653628 non-null  datetime64[ns]\n",
            " 39  purchase_time_variance  1653628 non-null  object        \n",
            " 40  total_margin            1653628 non-null  float64       \n",
            "dtypes: datetime64[ns](2), float64(16), int32(9), int64(5), object(9)\n",
            "memory usage: 460.5+ MB\n"
          ]
        }
      ],
      "source": [
        "features_df.info()"
      ]
    },
    {
      "cell_type": "code",
      "execution_count": null,
      "metadata": {
        "colab": {
          "background_save": true
        },
        "id": "2QFo_wKrZT95",
        "outputId": "e08ccac3-b125-479c-9514-962bce1b91d5"
      },
      "outputs": [
        {
          "name": "stdout",
          "output_type": "stream",
          "text": [
            "          pk_cid pk_partition entry_channel  active_customer  \\\n",
            "0          15891   2018-07-01           KAT                1   \n",
            "1          15891   2018-08-01           KAT                0   \n",
            "2          16203   2018-12-01           KAT                0   \n",
            "3          16203   2019-01-01           KAT                1   \n",
            "4          16203   2019-02-01           KAT                1   \n",
            "...          ...          ...           ...              ...   \n",
            "1627394  1530982   2019-04-01           KAT                1   \n",
            "1627395  1530982   2019-05-01           KAT                1   \n",
            "1628724  1531668   2019-03-01           KAT                1   \n",
            "1634030  1534308   2019-04-01           KAT                1   \n",
            "1634031  1534308   2019-05-01           KAT                1   \n",
            "\n",
            "                   segment country_id  region_code  gender  age deceased  ...  \\\n",
            "0        04 - SINCATEGORIA         ES         28.0       1   59        N  ...   \n",
            "1        02 - PARTICULARES         ES         28.0       1   59        N  ...   \n",
            "2        04 - SINCATEGORIA         ES          8.0       0   70        N  ...   \n",
            "3        02 - PARTICULARES         ES          8.0       0   70        N  ...   \n",
            "4                 01 - TOP         ES          8.0       0   70        N  ...   \n",
            "...                    ...        ...          ...     ...  ...      ...  ...   \n",
            "1627394  02 - PARTICULARES         GB          0.0       0   33        N  ...   \n",
            "1627395  02 - PARTICULARES         GB          0.0       0   33        N  ...   \n",
            "1628724  02 - PARTICULARES         ES         48.0       0   56        N  ...   \n",
            "1634030  02 - PARTICULARES         ES         15.0       1   67        N  ...   \n",
            "1634031  02 - PARTICULARES         ES         15.0       1   67        N  ...   \n",
            "\n",
            "         credit_card  funds  long_term_deposit payroll_account mortgage  \\\n",
            "0                0.0    0.0                0.0             0.0      0.0   \n",
            "1                0.0    0.0                0.0             0.0      0.0   \n",
            "2                0.0    0.0                0.0             0.0      0.0   \n",
            "3                0.0    0.0                0.0             0.0      0.0   \n",
            "4                0.0    0.0                0.0             0.0      0.0   \n",
            "...              ...    ...                ...             ...      ...   \n",
            "1627394          0.0    0.0                0.0             0.0      0.0   \n",
            "1627395          0.0    0.0                0.0             0.0      0.0   \n",
            "1628724          0.0    0.0                0.0             0.0      0.0   \n",
            "1634030          0.0    0.0                0.0             0.0      0.0   \n",
            "1634031          0.0    0.0                0.0             0.0      0.0   \n",
            "\n",
            "        short_term_deposit loans  last_purchase_date  purchase_time_variance  \\\n",
            "0                      0.0   0.0          2018-08-01        31 days 00:00:00   \n",
            "1                      0.0   0.0          2018-08-01        31 days 00:00:00   \n",
            "2                      0.0   0.0          2019-05-01        30 days 04:48:00   \n",
            "3                      0.0   0.0          2019-05-01        30 days 04:48:00   \n",
            "4                      0.0   0.0          2019-05-01        30 days 04:48:00   \n",
            "...                    ...   ...                 ...                     ...   \n",
            "1627394                0.0   0.0          2019-05-01        29 days 16:00:00   \n",
            "1627395                0.0   0.0          2019-05-01        29 days 16:00:00   \n",
            "1628724                0.0   0.0          2019-05-01        29 days 16:00:00   \n",
            "1634030                0.0   0.0          2019-05-01        29 days 16:00:00   \n",
            "1634031                0.0   0.0          2019-05-01        29 days 16:00:00   \n",
            "\n",
            "         total_margin  \n",
            "0               132.8  \n",
            "1               132.8  \n",
            "2               580.2  \n",
            "3               580.2  \n",
            "4               580.2  \n",
            "...               ...  \n",
            "1627394         274.8  \n",
            "1627395         274.8  \n",
            "1628724         326.4  \n",
            "1634030         299.6  \n",
            "1634031         299.6  \n",
            "\n",
            "[130569 rows x 41 columns]\n"
          ]
        }
      ],
      "source": [
        "rows_with_value = features_df[features_df.eq('KAT').any(axis=1)]\n",
        "\n",
        "# Mostrar las filas que contienen el valor 'KAT'\n",
        "print(rows_with_value)"
      ]
    },
    {
      "cell_type": "code",
      "execution_count": null,
      "metadata": {
        "colab": {
          "background_save": true
        },
        "id": "l4JClHqvYlTJ",
        "outputId": "cefc6e07-9eb4-45ca-9be8-5d3daee0abca"
      },
      "outputs": [
        {
          "name": "stdout",
          "output_type": "stream",
          "text": [
            "Columnas numéricas que no contienen exclusivamente los valores 0 y 1:\n",
            "['pk_cid', 'region_code', 'age', 'pk_sale', 'product_ID', 'net_margin', 'part_month', 'part_weekday', 'month_month', 'month_weekday', 'entry_month', 'entry_year', 'entry_weekday', 'total_products', 'debit_card', 'payroll', 'securities', 'em_acount', 'credit_card', 'funds', 'long_term_deposit', 'payroll_account', 'mortgage', 'short_term_deposit', 'loans', 'total_margin']\n"
          ]
        }
      ],
      "source": [
        "# Obtener las columnas numéricas del DataFrame\n",
        "columnas_numericas = features_df.select_dtypes(include='number').columns\n",
        "\n",
        "# Inicializar una lista para almacenar las columnas que cumplen con el criterio\n",
        "columnas_deseadas = []\n",
        "\n",
        "# Iterar sobre las columnas numéricas y verificar si no contienen solo los valores 0 y 1\n",
        "for columna in columnas_numericas:\n",
        "    if features_df[columna].nunique() > 2:\n",
        "        columnas_deseadas.append(columna)\n",
        "\n",
        "# Verificar las columnas seleccionadas\n",
        "print(\"Columnas numéricas que no contienen exclusivamente los valores 0 y 1:\")\n",
        "print(columnas_deseadas)"
      ]
    },
    {
      "cell_type": "code",
      "execution_count": null,
      "metadata": {
        "colab": {
          "background_save": true
        },
        "id": "WBtHQW6ZVQeG"
      },
      "outputs": [],
      "source": [
        "from sklearn.preprocessing import LabelEncoder"
      ]
    },
    {
      "cell_type": "code",
      "execution_count": null,
      "metadata": {
        "colab": {
          "background_save": true
        },
        "id": "X_mUvQpBbgJx"
      },
      "outputs": [],
      "source": [
        "encoded_df = pd.get_dummies(features_df.select_dtypes(include='object'), prefix='encoded')\n",
        "\n",
        "# Concatenar el DataFrame original con las nuevas columnas codificadas\n",
        "features_df = pd.concat([features_df, encoded_df], axis=1)"
      ]
    },
    {
      "cell_type": "code",
      "execution_count": null,
      "metadata": {
        "colab": {
          "background_save": true
        },
        "id": "5Tm1SCKRbH0b",
        "outputId": "5d28644b-d97a-4376-feac-54762af9ae9d"
      },
      "outputs": [
        {
          "data": {
            "application/vnd.google.colaboratory.intrinsic+json": {
              "type": "dataframe",
              "variable_name": "features_df"
            },
            "text/html": [
              "\n",
              "  <div id=\"df-cdfede46-7e31-4aff-9535-df25efe80b1c\" class=\"colab-df-container\">\n",
              "    <div>\n",
              "<style scoped>\n",
              "    .dataframe tbody tr th:only-of-type {\n",
              "        vertical-align: middle;\n",
              "    }\n",
              "\n",
              "    .dataframe tbody tr th {\n",
              "        vertical-align: top;\n",
              "    }\n",
              "\n",
              "    .dataframe thead th {\n",
              "        text-align: right;\n",
              "    }\n",
              "</style>\n",
              "<table border=\"1\" class=\"dataframe\">\n",
              "  <thead>\n",
              "    <tr style=\"text-align: right;\">\n",
              "      <th></th>\n",
              "      <th>pk_cid</th>\n",
              "      <th>pk_partition</th>\n",
              "      <th>entry_channel</th>\n",
              "      <th>active_customer</th>\n",
              "      <th>segment</th>\n",
              "      <th>country_id</th>\n",
              "      <th>region_code</th>\n",
              "      <th>gender</th>\n",
              "      <th>age</th>\n",
              "      <th>deceased</th>\n",
              "      <th>...</th>\n",
              "      <th>encoded_36 days 09:36:00</th>\n",
              "      <th>encoded_92 days 00:00:00</th>\n",
              "      <th>encoded_90 days 12:00:00</th>\n",
              "      <th>encoded_45 days 06:00:00</th>\n",
              "      <th>encoded_50 days 08:00:00</th>\n",
              "      <th>encoded_151 days 00:00:00</th>\n",
              "      <th>encoded_40 days 00:00:00</th>\n",
              "      <th>encoded_120 days 00:00:00</th>\n",
              "      <th>encoded_28 days 00:00:00</th>\n",
              "      <th>encoded_44 days 12:00:00</th>\n",
              "    </tr>\n",
              "  </thead>\n",
              "  <tbody>\n",
              "    <tr>\n",
              "      <th>0</th>\n",
              "      <td>15891</td>\n",
              "      <td>2018-07-01</td>\n",
              "      <td>KAT</td>\n",
              "      <td>1</td>\n",
              "      <td>04 - SINCATEGORIA</td>\n",
              "      <td>ES</td>\n",
              "      <td>28.0</td>\n",
              "      <td>1</td>\n",
              "      <td>59</td>\n",
              "      <td>N</td>\n",
              "      <td>...</td>\n",
              "      <td>False</td>\n",
              "      <td>False</td>\n",
              "      <td>False</td>\n",
              "      <td>False</td>\n",
              "      <td>False</td>\n",
              "      <td>False</td>\n",
              "      <td>False</td>\n",
              "      <td>False</td>\n",
              "      <td>False</td>\n",
              "      <td>False</td>\n",
              "    </tr>\n",
              "    <tr>\n",
              "      <th>1</th>\n",
              "      <td>15891</td>\n",
              "      <td>2018-08-01</td>\n",
              "      <td>KAT</td>\n",
              "      <td>0</td>\n",
              "      <td>02 - PARTICULARES</td>\n",
              "      <td>ES</td>\n",
              "      <td>28.0</td>\n",
              "      <td>1</td>\n",
              "      <td>59</td>\n",
              "      <td>N</td>\n",
              "      <td>...</td>\n",
              "      <td>False</td>\n",
              "      <td>False</td>\n",
              "      <td>False</td>\n",
              "      <td>False</td>\n",
              "      <td>False</td>\n",
              "      <td>False</td>\n",
              "      <td>False</td>\n",
              "      <td>False</td>\n",
              "      <td>False</td>\n",
              "      <td>False</td>\n",
              "    </tr>\n",
              "    <tr>\n",
              "      <th>2</th>\n",
              "      <td>16203</td>\n",
              "      <td>2018-12-01</td>\n",
              "      <td>KAT</td>\n",
              "      <td>0</td>\n",
              "      <td>04 - SINCATEGORIA</td>\n",
              "      <td>ES</td>\n",
              "      <td>8.0</td>\n",
              "      <td>0</td>\n",
              "      <td>70</td>\n",
              "      <td>N</td>\n",
              "      <td>...</td>\n",
              "      <td>False</td>\n",
              "      <td>False</td>\n",
              "      <td>False</td>\n",
              "      <td>False</td>\n",
              "      <td>False</td>\n",
              "      <td>False</td>\n",
              "      <td>False</td>\n",
              "      <td>False</td>\n",
              "      <td>False</td>\n",
              "      <td>False</td>\n",
              "    </tr>\n",
              "    <tr>\n",
              "      <th>3</th>\n",
              "      <td>16203</td>\n",
              "      <td>2019-01-01</td>\n",
              "      <td>KAT</td>\n",
              "      <td>1</td>\n",
              "      <td>02 - PARTICULARES</td>\n",
              "      <td>ES</td>\n",
              "      <td>8.0</td>\n",
              "      <td>0</td>\n",
              "      <td>70</td>\n",
              "      <td>N</td>\n",
              "      <td>...</td>\n",
              "      <td>False</td>\n",
              "      <td>False</td>\n",
              "      <td>False</td>\n",
              "      <td>False</td>\n",
              "      <td>False</td>\n",
              "      <td>False</td>\n",
              "      <td>False</td>\n",
              "      <td>False</td>\n",
              "      <td>False</td>\n",
              "      <td>False</td>\n",
              "    </tr>\n",
              "    <tr>\n",
              "      <th>4</th>\n",
              "      <td>16203</td>\n",
              "      <td>2019-02-01</td>\n",
              "      <td>KAT</td>\n",
              "      <td>1</td>\n",
              "      <td>01 - TOP</td>\n",
              "      <td>ES</td>\n",
              "      <td>8.0</td>\n",
              "      <td>0</td>\n",
              "      <td>70</td>\n",
              "      <td>N</td>\n",
              "      <td>...</td>\n",
              "      <td>False</td>\n",
              "      <td>False</td>\n",
              "      <td>False</td>\n",
              "      <td>False</td>\n",
              "      <td>False</td>\n",
              "      <td>False</td>\n",
              "      <td>False</td>\n",
              "      <td>False</td>\n",
              "      <td>False</td>\n",
              "      <td>False</td>\n",
              "    </tr>\n",
              "    <tr>\n",
              "      <th>...</th>\n",
              "      <td>...</td>\n",
              "      <td>...</td>\n",
              "      <td>...</td>\n",
              "      <td>...</td>\n",
              "      <td>...</td>\n",
              "      <td>...</td>\n",
              "      <td>...</td>\n",
              "      <td>...</td>\n",
              "      <td>...</td>\n",
              "      <td>...</td>\n",
              "      <td>...</td>\n",
              "      <td>...</td>\n",
              "      <td>...</td>\n",
              "      <td>...</td>\n",
              "      <td>...</td>\n",
              "      <td>...</td>\n",
              "      <td>...</td>\n",
              "      <td>...</td>\n",
              "      <td>...</td>\n",
              "      <td>...</td>\n",
              "      <td>...</td>\n",
              "    </tr>\n",
              "    <tr>\n",
              "      <th>1653623</th>\n",
              "      <td>1553456</td>\n",
              "      <td>2019-05-01</td>\n",
              "      <td>UKNOWN</td>\n",
              "      <td>1</td>\n",
              "      <td>04 - SINCATEGORIA</td>\n",
              "      <td>ES</td>\n",
              "      <td>28.0</td>\n",
              "      <td>1</td>\n",
              "      <td>32</td>\n",
              "      <td>N</td>\n",
              "      <td>...</td>\n",
              "      <td>False</td>\n",
              "      <td>False</td>\n",
              "      <td>False</td>\n",
              "      <td>False</td>\n",
              "      <td>False</td>\n",
              "      <td>False</td>\n",
              "      <td>False</td>\n",
              "      <td>False</td>\n",
              "      <td>False</td>\n",
              "      <td>False</td>\n",
              "    </tr>\n",
              "    <tr>\n",
              "      <th>1653624</th>\n",
              "      <td>1553541</td>\n",
              "      <td>2019-05-01</td>\n",
              "      <td>UKNOWN</td>\n",
              "      <td>1</td>\n",
              "      <td>04 - SINCATEGORIA</td>\n",
              "      <td>ES</td>\n",
              "      <td>49.0</td>\n",
              "      <td>0</td>\n",
              "      <td>54</td>\n",
              "      <td>N</td>\n",
              "      <td>...</td>\n",
              "      <td>False</td>\n",
              "      <td>False</td>\n",
              "      <td>False</td>\n",
              "      <td>False</td>\n",
              "      <td>False</td>\n",
              "      <td>False</td>\n",
              "      <td>False</td>\n",
              "      <td>False</td>\n",
              "      <td>False</td>\n",
              "      <td>False</td>\n",
              "    </tr>\n",
              "    <tr>\n",
              "      <th>1653625</th>\n",
              "      <td>1553559</td>\n",
              "      <td>2019-05-01</td>\n",
              "      <td>UKNOWN</td>\n",
              "      <td>1</td>\n",
              "      <td>04 - SINCATEGORIA</td>\n",
              "      <td>ES</td>\n",
              "      <td>8.0</td>\n",
              "      <td>1</td>\n",
              "      <td>43</td>\n",
              "      <td>N</td>\n",
              "      <td>...</td>\n",
              "      <td>False</td>\n",
              "      <td>False</td>\n",
              "      <td>False</td>\n",
              "      <td>False</td>\n",
              "      <td>False</td>\n",
              "      <td>False</td>\n",
              "      <td>False</td>\n",
              "      <td>False</td>\n",
              "      <td>False</td>\n",
              "      <td>False</td>\n",
              "    </tr>\n",
              "    <tr>\n",
              "      <th>1653626</th>\n",
              "      <td>1553565</td>\n",
              "      <td>2019-05-01</td>\n",
              "      <td>UKNOWN</td>\n",
              "      <td>0</td>\n",
              "      <td>04 - SINCATEGORIA</td>\n",
              "      <td>ES</td>\n",
              "      <td>45.0</td>\n",
              "      <td>1</td>\n",
              "      <td>68</td>\n",
              "      <td>N</td>\n",
              "      <td>...</td>\n",
              "      <td>False</td>\n",
              "      <td>False</td>\n",
              "      <td>False</td>\n",
              "      <td>False</td>\n",
              "      <td>False</td>\n",
              "      <td>False</td>\n",
              "      <td>False</td>\n",
              "      <td>False</td>\n",
              "      <td>False</td>\n",
              "      <td>False</td>\n",
              "    </tr>\n",
              "    <tr>\n",
              "      <th>1653627</th>\n",
              "      <td>1553571</td>\n",
              "      <td>2019-05-01</td>\n",
              "      <td>UKNOWN</td>\n",
              "      <td>1</td>\n",
              "      <td>04 - SINCATEGORIA</td>\n",
              "      <td>ES</td>\n",
              "      <td>15.0</td>\n",
              "      <td>0</td>\n",
              "      <td>30</td>\n",
              "      <td>N</td>\n",
              "      <td>...</td>\n",
              "      <td>False</td>\n",
              "      <td>False</td>\n",
              "      <td>False</td>\n",
              "      <td>False</td>\n",
              "      <td>False</td>\n",
              "      <td>False</td>\n",
              "      <td>False</td>\n",
              "      <td>False</td>\n",
              "      <td>False</td>\n",
              "      <td>False</td>\n",
              "    </tr>\n",
              "  </tbody>\n",
              "</table>\n",
              "<p>1653628 rows × 317 columns</p>\n",
              "</div>\n",
              "    <div class=\"colab-df-buttons\">\n",
              "\n",
              "  <div class=\"colab-df-container\">\n",
              "    <button class=\"colab-df-convert\" onclick=\"convertToInteractive('df-cdfede46-7e31-4aff-9535-df25efe80b1c')\"\n",
              "            title=\"Convert this dataframe to an interactive table.\"\n",
              "            style=\"display:none;\">\n",
              "\n",
              "  <svg xmlns=\"http://www.w3.org/2000/svg\" height=\"24px\" viewBox=\"0 -960 960 960\">\n",
              "    <path d=\"M120-120v-720h720v720H120Zm60-500h600v-160H180v160Zm220 220h160v-160H400v160Zm0 220h160v-160H400v160ZM180-400h160v-160H180v160Zm440 0h160v-160H620v160ZM180-180h160v-160H180v160Zm440 0h160v-160H620v160Z\"/>\n",
              "  </svg>\n",
              "    </button>\n",
              "\n",
              "  <style>\n",
              "    .colab-df-container {\n",
              "      display:flex;\n",
              "      gap: 12px;\n",
              "    }\n",
              "\n",
              "    .colab-df-convert {\n",
              "      background-color: #E8F0FE;\n",
              "      border: none;\n",
              "      border-radius: 50%;\n",
              "      cursor: pointer;\n",
              "      display: none;\n",
              "      fill: #1967D2;\n",
              "      height: 32px;\n",
              "      padding: 0 0 0 0;\n",
              "      width: 32px;\n",
              "    }\n",
              "\n",
              "    .colab-df-convert:hover {\n",
              "      background-color: #E2EBFA;\n",
              "      box-shadow: 0px 1px 2px rgba(60, 64, 67, 0.3), 0px 1px 3px 1px rgba(60, 64, 67, 0.15);\n",
              "      fill: #174EA6;\n",
              "    }\n",
              "\n",
              "    .colab-df-buttons div {\n",
              "      margin-bottom: 4px;\n",
              "    }\n",
              "\n",
              "    [theme=dark] .colab-df-convert {\n",
              "      background-color: #3B4455;\n",
              "      fill: #D2E3FC;\n",
              "    }\n",
              "\n",
              "    [theme=dark] .colab-df-convert:hover {\n",
              "      background-color: #434B5C;\n",
              "      box-shadow: 0px 1px 3px 1px rgba(0, 0, 0, 0.15);\n",
              "      filter: drop-shadow(0px 1px 2px rgba(0, 0, 0, 0.3));\n",
              "      fill: #FFFFFF;\n",
              "    }\n",
              "  </style>\n",
              "\n",
              "    <script>\n",
              "      const buttonEl =\n",
              "        document.querySelector('#df-cdfede46-7e31-4aff-9535-df25efe80b1c button.colab-df-convert');\n",
              "      buttonEl.style.display =\n",
              "        google.colab.kernel.accessAllowed ? 'block' : 'none';\n",
              "\n",
              "      async function convertToInteractive(key) {\n",
              "        const element = document.querySelector('#df-cdfede46-7e31-4aff-9535-df25efe80b1c');\n",
              "        const dataTable =\n",
              "          await google.colab.kernel.invokeFunction('convertToInteractive',\n",
              "                                                    [key], {});\n",
              "        if (!dataTable) return;\n",
              "\n",
              "        const docLinkHtml = 'Like what you see? Visit the ' +\n",
              "          '<a target=\"_blank\" href=https://colab.research.google.com/notebooks/data_table.ipynb>data table notebook</a>'\n",
              "          + ' to learn more about interactive tables.';\n",
              "        element.innerHTML = '';\n",
              "        dataTable['output_type'] = 'display_data';\n",
              "        await google.colab.output.renderOutput(dataTable, element);\n",
              "        const docLink = document.createElement('div');\n",
              "        docLink.innerHTML = docLinkHtml;\n",
              "        element.appendChild(docLink);\n",
              "      }\n",
              "    </script>\n",
              "  </div>\n",
              "\n",
              "\n",
              "<div id=\"df-bf3f63a8-7904-45ec-8586-255280517f12\">\n",
              "  <button class=\"colab-df-quickchart\" onclick=\"quickchart('df-bf3f63a8-7904-45ec-8586-255280517f12')\"\n",
              "            title=\"Suggest charts\"\n",
              "            style=\"display:none;\">\n",
              "\n",
              "<svg xmlns=\"http://www.w3.org/2000/svg\" height=\"24px\"viewBox=\"0 0 24 24\"\n",
              "     width=\"24px\">\n",
              "    <g>\n",
              "        <path d=\"M19 3H5c-1.1 0-2 .9-2 2v14c0 1.1.9 2 2 2h14c1.1 0 2-.9 2-2V5c0-1.1-.9-2-2-2zM9 17H7v-7h2v7zm4 0h-2V7h2v10zm4 0h-2v-4h2v4z\"/>\n",
              "    </g>\n",
              "</svg>\n",
              "  </button>\n",
              "\n",
              "<style>\n",
              "  .colab-df-quickchart {\n",
              "      --bg-color: #E8F0FE;\n",
              "      --fill-color: #1967D2;\n",
              "      --hover-bg-color: #E2EBFA;\n",
              "      --hover-fill-color: #174EA6;\n",
              "      --disabled-fill-color: #AAA;\n",
              "      --disabled-bg-color: #DDD;\n",
              "  }\n",
              "\n",
              "  [theme=dark] .colab-df-quickchart {\n",
              "      --bg-color: #3B4455;\n",
              "      --fill-color: #D2E3FC;\n",
              "      --hover-bg-color: #434B5C;\n",
              "      --hover-fill-color: #FFFFFF;\n",
              "      --disabled-bg-color: #3B4455;\n",
              "      --disabled-fill-color: #666;\n",
              "  }\n",
              "\n",
              "  .colab-df-quickchart {\n",
              "    background-color: var(--bg-color);\n",
              "    border: none;\n",
              "    border-radius: 50%;\n",
              "    cursor: pointer;\n",
              "    display: none;\n",
              "    fill: var(--fill-color);\n",
              "    height: 32px;\n",
              "    padding: 0;\n",
              "    width: 32px;\n",
              "  }\n",
              "\n",
              "  .colab-df-quickchart:hover {\n",
              "    background-color: var(--hover-bg-color);\n",
              "    box-shadow: 0 1px 2px rgba(60, 64, 67, 0.3), 0 1px 3px 1px rgba(60, 64, 67, 0.15);\n",
              "    fill: var(--button-hover-fill-color);\n",
              "  }\n",
              "\n",
              "  .colab-df-quickchart-complete:disabled,\n",
              "  .colab-df-quickchart-complete:disabled:hover {\n",
              "    background-color: var(--disabled-bg-color);\n",
              "    fill: var(--disabled-fill-color);\n",
              "    box-shadow: none;\n",
              "  }\n",
              "\n",
              "  .colab-df-spinner {\n",
              "    border: 2px solid var(--fill-color);\n",
              "    border-color: transparent;\n",
              "    border-bottom-color: var(--fill-color);\n",
              "    animation:\n",
              "      spin 1s steps(1) infinite;\n",
              "  }\n",
              "\n",
              "  @keyframes spin {\n",
              "    0% {\n",
              "      border-color: transparent;\n",
              "      border-bottom-color: var(--fill-color);\n",
              "      border-left-color: var(--fill-color);\n",
              "    }\n",
              "    20% {\n",
              "      border-color: transparent;\n",
              "      border-left-color: var(--fill-color);\n",
              "      border-top-color: var(--fill-color);\n",
              "    }\n",
              "    30% {\n",
              "      border-color: transparent;\n",
              "      border-left-color: var(--fill-color);\n",
              "      border-top-color: var(--fill-color);\n",
              "      border-right-color: var(--fill-color);\n",
              "    }\n",
              "    40% {\n",
              "      border-color: transparent;\n",
              "      border-right-color: var(--fill-color);\n",
              "      border-top-color: var(--fill-color);\n",
              "    }\n",
              "    60% {\n",
              "      border-color: transparent;\n",
              "      border-right-color: var(--fill-color);\n",
              "    }\n",
              "    80% {\n",
              "      border-color: transparent;\n",
              "      border-right-color: var(--fill-color);\n",
              "      border-bottom-color: var(--fill-color);\n",
              "    }\n",
              "    90% {\n",
              "      border-color: transparent;\n",
              "      border-bottom-color: var(--fill-color);\n",
              "    }\n",
              "  }\n",
              "</style>\n",
              "\n",
              "  <script>\n",
              "    async function quickchart(key) {\n",
              "      const quickchartButtonEl =\n",
              "        document.querySelector('#' + key + ' button');\n",
              "      quickchartButtonEl.disabled = true;  // To prevent multiple clicks.\n",
              "      quickchartButtonEl.classList.add('colab-df-spinner');\n",
              "      try {\n",
              "        const charts = await google.colab.kernel.invokeFunction(\n",
              "            'suggestCharts', [key], {});\n",
              "      } catch (error) {\n",
              "        console.error('Error during call to suggestCharts:', error);\n",
              "      }\n",
              "      quickchartButtonEl.classList.remove('colab-df-spinner');\n",
              "      quickchartButtonEl.classList.add('colab-df-quickchart-complete');\n",
              "    }\n",
              "    (() => {\n",
              "      let quickchartButtonEl =\n",
              "        document.querySelector('#df-bf3f63a8-7904-45ec-8586-255280517f12 button');\n",
              "      quickchartButtonEl.style.display =\n",
              "        google.colab.kernel.accessAllowed ? 'block' : 'none';\n",
              "    })();\n",
              "  </script>\n",
              "</div>\n",
              "    </div>\n",
              "  </div>\n"
            ],
            "text/plain": [
              "          pk_cid pk_partition entry_channel  active_customer  \\\n",
              "0          15891   2018-07-01           KAT                1   \n",
              "1          15891   2018-08-01           KAT                0   \n",
              "2          16203   2018-12-01           KAT                0   \n",
              "3          16203   2019-01-01           KAT                1   \n",
              "4          16203   2019-02-01           KAT                1   \n",
              "...          ...          ...           ...              ...   \n",
              "1653623  1553456   2019-05-01        UKNOWN                1   \n",
              "1653624  1553541   2019-05-01        UKNOWN                1   \n",
              "1653625  1553559   2019-05-01        UKNOWN                1   \n",
              "1653626  1553565   2019-05-01        UKNOWN                0   \n",
              "1653627  1553571   2019-05-01        UKNOWN                1   \n",
              "\n",
              "                   segment country_id  region_code  gender  age deceased  ...  \\\n",
              "0        04 - SINCATEGORIA         ES         28.0       1   59        N  ...   \n",
              "1        02 - PARTICULARES         ES         28.0       1   59        N  ...   \n",
              "2        04 - SINCATEGORIA         ES          8.0       0   70        N  ...   \n",
              "3        02 - PARTICULARES         ES          8.0       0   70        N  ...   \n",
              "4                 01 - TOP         ES          8.0       0   70        N  ...   \n",
              "...                    ...        ...          ...     ...  ...      ...  ...   \n",
              "1653623  04 - SINCATEGORIA         ES         28.0       1   32        N  ...   \n",
              "1653624  04 - SINCATEGORIA         ES         49.0       0   54        N  ...   \n",
              "1653625  04 - SINCATEGORIA         ES          8.0       1   43        N  ...   \n",
              "1653626  04 - SINCATEGORIA         ES         45.0       1   68        N  ...   \n",
              "1653627  04 - SINCATEGORIA         ES         15.0       0   30        N  ...   \n",
              "\n",
              "         encoded_36 days 09:36:00  encoded_92 days 00:00:00  \\\n",
              "0                           False                     False   \n",
              "1                           False                     False   \n",
              "2                           False                     False   \n",
              "3                           False                     False   \n",
              "4                           False                     False   \n",
              "...                           ...                       ...   \n",
              "1653623                     False                     False   \n",
              "1653624                     False                     False   \n",
              "1653625                     False                     False   \n",
              "1653626                     False                     False   \n",
              "1653627                     False                     False   \n",
              "\n",
              "         encoded_90 days 12:00:00 encoded_45 days 06:00:00  \\\n",
              "0                           False                    False   \n",
              "1                           False                    False   \n",
              "2                           False                    False   \n",
              "3                           False                    False   \n",
              "4                           False                    False   \n",
              "...                           ...                      ...   \n",
              "1653623                     False                    False   \n",
              "1653624                     False                    False   \n",
              "1653625                     False                    False   \n",
              "1653626                     False                    False   \n",
              "1653627                     False                    False   \n",
              "\n",
              "        encoded_50 days 08:00:00 encoded_151 days 00:00:00  \\\n",
              "0                          False                     False   \n",
              "1                          False                     False   \n",
              "2                          False                     False   \n",
              "3                          False                     False   \n",
              "4                          False                     False   \n",
              "...                          ...                       ...   \n",
              "1653623                    False                     False   \n",
              "1653624                    False                     False   \n",
              "1653625                    False                     False   \n",
              "1653626                    False                     False   \n",
              "1653627                    False                     False   \n",
              "\n",
              "        encoded_40 days 00:00:00  encoded_120 days 00:00:00  \\\n",
              "0                          False                      False   \n",
              "1                          False                      False   \n",
              "2                          False                      False   \n",
              "3                          False                      False   \n",
              "4                          False                      False   \n",
              "...                          ...                        ...   \n",
              "1653623                    False                      False   \n",
              "1653624                    False                      False   \n",
              "1653625                    False                      False   \n",
              "1653626                    False                      False   \n",
              "1653627                    False                      False   \n",
              "\n",
              "         encoded_28 days 00:00:00  encoded_44 days 12:00:00  \n",
              "0                           False                     False  \n",
              "1                           False                     False  \n",
              "2                           False                     False  \n",
              "3                           False                     False  \n",
              "4                           False                     False  \n",
              "...                           ...                       ...  \n",
              "1653623                     False                     False  \n",
              "1653624                     False                     False  \n",
              "1653625                     False                     False  \n",
              "1653626                     False                     False  \n",
              "1653627                     False                     False  \n",
              "\n",
              "[1653628 rows x 317 columns]"
            ]
          },
          "execution_count": 45,
          "metadata": {},
          "output_type": "execute_result"
        }
      ],
      "source": [
        "features_df"
      ]
    },
    {
      "cell_type": "code",
      "execution_count": null,
      "metadata": {
        "colab": {
          "background_save": true
        },
        "id": "jHE2XUzacGvc",
        "outputId": "a72162be-5349-4bd5-fe8c-0fa5b742c49c"
      },
      "outputs": [
        {
          "name": "stdout",
          "output_type": "stream",
          "text": [
            "<class 'pandas.core.frame.DataFrame'>\n",
            "RangeIndex: 1653628 entries, 0 to 1653627\n",
            "Columns: 317 entries, pk_cid to encoded_44 days 12:00:00\n",
            "dtypes: bool(276), datetime64[ns](2), float64(16), int32(9), int64(5), object(9)\n",
            "memory usage: 895.7+ MB\n"
          ]
        }
      ],
      "source": [
        "features_df.info()"
      ]
    },
    {
      "cell_type": "code",
      "execution_count": null,
      "metadata": {
        "colab": {
          "background_save": true
        },
        "id": "KwBkJjL4cMgc"
      },
      "outputs": [],
      "source": [
        "features_df.update(features_df.select_dtypes(include=bool).astype(int))"
      ]
    },
    {
      "cell_type": "code",
      "execution_count": null,
      "metadata": {
        "id": "VmMaGtAT7w7t"
      },
      "outputs": [],
      "source": [
        "from sklearn.model_selection import train_test_split\n",
        "\n",
        "# Dividir el DataFrame en conjunto de características (X) y variable objetivo (y)\n",
        "X = features_df.drop(columns=[TARGET])  # Características\n",
        "y = features_df[TARGET]  # Variable objetivo\n",
        "\n",
        "# Dividir el conjunto de datos en entrenamiento y prueba (80% entrenamiento, 20% prueba)\n",
        "X_train, X_test, y_train, y_test = train_test_split(X, y, test_size=0.2, random_state=42)\n",
        "\n",
        "# Dividir el conjunto de entrenamiento en entrenamiento y validación (75% entrenamiento, 25% validación)\n",
        "X_train, X_val, y_train, y_val = train_test_split(X_train, y_train, test_size=0.25, random_state=42)\n",
        "\n",
        "# Mostrar el tamaño de los conjuntos de datos resultantes\n",
        "print(\"Tamaño del conjunto de entrenamiento:\", X_train.shape)\n",
        "print(\"Tamaño del conjunto de validación:\", X_val.shape)\n",
        "print(\"Tamaño del conjunto de prueba:\", X_test.shape)"
      ]
    },
    {
      "cell_type": "code",
      "execution_count": null,
      "metadata": {
        "colab": {
          "background_save": true
        },
        "id": "n-OXhYzwakNQ"
      },
      "outputs": [],
      "source": []
    },
    {
      "cell_type": "code",
      "execution_count": null,
      "metadata": {
        "id": "Vzd4CqFJakFq"
      },
      "outputs": [],
      "source": [
        "from sklearn.preprocessing import LabelEncoder\n",
        "\n",
        "# Codificar las columnas categóricas\n",
        "label_encoders = {}\n",
        "for column in ['entry_channel', 'segment', 'country_id', 'deceased', 'family_product', 'Provincia', 'SalaryRange']:\n",
        "    label_encoders[column] = LabelEncoder()\n",
        "    df4[column] = label_encoders[column].fit_transform(df4[column])\n",
        "\n",
        "# Eliminar columnas no utilizables\n",
        "df4.drop(columns=['pk_partition'], inplace=True)\n",
        "\n",
        "# Dividir los datos en características (X) y variable objetivo (y)\n",
        "X = df4.drop(columns=['product_desc'])\n",
        "y = df4['product_desc']"
      ]
    },
    {
      "cell_type": "code",
      "execution_count": null,
      "metadata": {
        "id": "NkX39__kakDs"
      },
      "outputs": [],
      "source": [
        "from sklearn.model_selection import train_test_split\n",
        "\n",
        "# Dividir el conjunto de datos en entrenamiento y prueba (80% entrenamiento, 20% prueba)\n",
        "X_train, X_test, y_train, y_test = train_test_split(X, y, test_size=0.2, random_state=42)\n",
        "\n",
        "# Dividir el conjunto de entrenamiento en entrenamiento y validación (75% entrenamiento, 25% validación)\n",
        "X_train, X_val, y_train, y_val = train_test_split(X_train, y_train, test_size=0.25, random_state=42)\n",
        "\n",
        "# Mostrar el tamaño de los conjuntos de datos resultantes\n",
        "print(\"Tamaño del conjunto de entrenamiento:\", X_train.shape)\n",
        "print(\"Tamaño del conjunto de validación:\", X_val.shape)\n",
        "print(\"Tamaño del conjunto de prueba:\", X_test.shape)"
      ]
    },
    {
      "cell_type": "code",
      "execution_count": null,
      "metadata": {
        "id": "aD30qTB-akBS"
      },
      "outputs": [],
      "source": [
        "import xgboost as xgb\n",
        "from sklearn.metrics import accuracy_score\n",
        "\n",
        "# Convertir la variable objetivo a valores numéricos enteros\n",
        "#label_encoder = LabelEncoder()\n",
        "#y_train_encoded = label_encoder.fit_transform(y_train)\n",
        "#y_val_encoded = label_encoder.transform(y_val)\n",
        "#y_test_encoded = label_encoder.transform(y_test)\n",
        "\n",
        "# Entrenar un modelo XGBoost con la variable objetivo codificada\n",
        "model = xgb.XGBClassifier(objective='multi:softmax', num_class=len(label_encoder.classes_))\n",
        "model.fit(X_train, y_train_encoded)\n",
        "\n",
        "# Evaluar el modelo en el conjunto de validación\n",
        "y_pred_val = model.predict(X_val)\n",
        "accuracy_val = accuracy_score(y_val_encoded, y_pred_val)\n",
        "print(\"Accuracy en el conjunto de validación:\", accuracy_val)\n",
        "\n",
        "# Evaluar el modelo en el conjunto de prueba\n",
        "y_pred_test = model.predict(X_test)\n",
        "accuracy_test = accuracy_score(y_test_encoded, y_pred_test)\n",
        "print(\"Accuracy en el conjunto de prueba:\", accuracy_test)"
      ]
    },
    {
      "cell_type": "code",
      "execution_count": null,
      "metadata": {
        "id": "LMPbPdpXaj-5"
      },
      "outputs": [],
      "source": []
    },
    {
      "cell_type": "code",
      "execution_count": null,
      "metadata": {
        "id": "5TKVEKYgaj6l"
      },
      "outputs": [],
      "source": []
    },
    {
      "cell_type": "code",
      "execution_count": null,
      "metadata": {
        "id": "4_isoJy-aj36"
      },
      "outputs": [],
      "source": []
    },
    {
      "cell_type": "code",
      "execution_count": null,
      "metadata": {
        "id": "SIF1NwCLaj1L"
      },
      "outputs": [],
      "source": []
    },
    {
      "cell_type": "code",
      "execution_count": null,
      "metadata": {
        "id": "sDh1mIiOajyt"
      },
      "outputs": [],
      "source": []
    },
    {
      "cell_type": "code",
      "execution_count": null,
      "metadata": {
        "id": "nm0YA80-ajwG"
      },
      "outputs": [],
      "source": []
    },
    {
      "cell_type": "code",
      "execution_count": null,
      "metadata": {
        "id": "gmhQokvpZf-_"
      },
      "outputs": [],
      "source": []
    },
    {
      "cell_type": "code",
      "execution_count": null,
      "metadata": {
        "id": "_h6AkuLy0zdF"
      },
      "outputs": [],
      "source": []
    },
    {
      "cell_type": "code",
      "execution_count": null,
      "metadata": {
        "id": "XWd39Cs70zal"
      },
      "outputs": [],
      "source": []
    },
    {
      "cell_type": "code",
      "execution_count": null,
      "metadata": {
        "id": "uEIGY7OI0zX6"
      },
      "outputs": [],
      "source": []
    }
  ],
  "metadata": {
    "accelerator": "GPU",
    "colab": {
      "gpuType": "T4",
      "machine_shape": "hm",
      "provenance": []
    },
    "kernelspec": {
      "display_name": "Python 3",
      "name": "python3"
    },
    "language_info": {
      "name": "python"
    }
  },
  "nbformat": 4,
  "nbformat_minor": 0
}